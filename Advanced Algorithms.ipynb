{
 "cells": [
  {
   "cell_type": "code",
   "execution_count": 1,
   "metadata": {},
   "outputs": [],
   "source": [
    "import pandas as pd\n",
    "import numpy as np\n",
    "from matplotlib import pyplot as plt\n",
    "from sklearn.model_selection import train_test_split\n",
    "from tqdm import tqdm\n",
    "import timeit\n",
    "import gc\n",
    "import tensorflow as tf\n",
    "from tensorflow import keras\n",
    "import pickle"
   ]
  },
  {
   "cell_type": "code",
   "execution_count": 2,
   "metadata": {},
   "outputs": [],
   "source": [
    "def run_als(R, F_p, k, weight = 0, reg_param = 0.05, epochs = 10):\n",
    "    '''\n",
    "        Users matrix - U, of shape k x u, where k is the number of latent features and u is the number of users\n",
    "        Items matrix - V, of shape k x i, where i is the number of items.\n",
    "        R - Explicit Rating matrix\n",
    "        F_p - The positive filter matrix, used to extract observed interactions.\n",
    "        F_n - The negative filter matrix, used to extract unobserved interactions.\n",
    "    '''\n",
    "    num_users = R.shape[0]\n",
    "    num_items = R.shape[1]\n",
    "    \n",
    "    U = np.random.rand(k, num_users)\n",
    "    V = np.random.rand(k, num_items)\n",
    "    \n",
    "    F_n = np.ones(shape = F_p.shape) - F_p\n",
    "    \n",
    "    for epoch in tqdm(range(epochs)):\n",
    "        for user_idx, R_u in enumerate(R):\n",
    "            filter_obs = np.diag(F_p[user_idx])\n",
    "            filter_unobs = np.diag(F_n[user_idx])\n",
    "            A = np.matmul(V, np.dot(filter_obs, V.T)) + weight * np.matmul(V, np.dot(filter_unobs, V.T)) + reg_param * np.eye(k)\n",
    "            b = np.matmul(np.dot(V, filter_obs) + weight * np.dot(V, filter_unobs), R_u.T)\n",
    "            \n",
    "            U[:, user_idx] = np.linalg.solve(A, b)\n",
    "        print('Fitted for users.')\n",
    "\n",
    "        for item_idx, R_i in enumerate(R.T):\n",
    "            filter_obs = np.diag(F_p.T[item_idx])\n",
    "            filter_unobs = np.diag(F_n.T[item_idx])\n",
    "            print(filter_obs.shape)\n",
    "            print(U.shape)\n",
    "            %timeit A = np.matmul(U, np.dot(filter_obs, U.T)) + weight * np.matmul(U, np.dot(filter_unobs, U.T)) + reg_param * np.eye(k)\n",
    "            %timeit b = np.matmul(np.dot(U, filter_obs) + weight * np.dot(U, filter_unobs), R_i)\n",
    "            \n",
    "            V[:, item_idx] = np.linalg.solve(A, b)\n",
    "            \n",
    "            A = None\n",
    "            b = None\n",
    "            filter_obs = None\n",
    "            filter_unobs = None\n",
    "            gc.collect()\n",
    "            return\n",
    "        print('Fitted for items.')\n",
    "    return U, V"
   ]
  },
  {
   "cell_type": "code",
   "execution_count": 3,
   "metadata": {},
   "outputs": [],
   "source": [
    "dataset = pd.read_csv('ratings_Beauty.csv')"
   ]
  },
  {
   "cell_type": "code",
   "execution_count": 4,
   "metadata": {},
   "outputs": [],
   "source": [
    "# Let's look at the ratings count of the products\n",
    "gb_product = dataset.groupby('ProductId').size()\n",
    "gb_product = gb_product.sort_values()"
   ]
  },
  {
   "cell_type": "code",
   "execution_count": 5,
   "metadata": {},
   "outputs": [
    {
     "data": {
      "image/png": "[encoded data removed]",
      "text/plain": [
       "<Figure size 432x288 with 1 Axes>"
      ]
     },
     "metadata": {
      "needs_background": "light"
     },
     "output_type": "display_data"
    },
    {
     "name": "stdout",
     "output_type": "stream",
     "text": [
      "34\n"
     ]
    },
    {
     "data": {
      "image/png": "[encoded data removed]",
      "text/plain": [
       "<Figure size 432x288 with 1 Axes>"
      ]
     },
     "metadata": {
      "needs_background": "light"
     },
     "output_type": "display_data"
    }
   ],
   "source": [
    "plt.plot(range(1, gb_product.shape[0] + 1), gb_product.values)\n",
    "plt.show()\n",
    "high_rated_products = gb_product[gb_product >= 1000]\n",
    "plt.plot(range(1, high_rated_products.shape[0] + 1), high_rated_products.values)\n",
    "print(high_rated_products.shape[0])"
   ]
  },
  {
   "cell_type": "code",
   "execution_count": 6,
   "metadata": {},
   "outputs": [],
   "source": [
    "data_complete = dataset.loc[dataset['ProductId'].isin(high_rated_products.index)]\n",
    "data = data_complete.iloc[:, :-1]"
   ]
  },
  {
   "cell_type": "code",
   "execution_count": 7,
   "metadata": {},
   "outputs": [],
   "source": [
    "data_train, data_test, _, _ = train_test_split(data, np.zeros(data.shape[0]), test_size = 0.2)"
   ]
  },
  {
   "cell_type": "code",
   "execution_count": null,
   "metadata": {},
   "outputs": [],
   "source": [
    "user_item_matrix_raw = pd.pivot_table(data_train, index = 'UserId', \n",
    "                                  columns = 'ProductId', values = 'Rating', aggfunc = np.sum)"
   ]
  },
  {
   "cell_type": "code",
   "execution_count": null,
   "metadata": {},
   "outputs": [],
   "source": [
    "# Filling the NaN values with mean of the column\n",
    "user_item_matrix = user_item_matrix_raw.fillna(-1)\n",
    "user_item_matrix.head(4)"
   ]
  },
  {
   "cell_type": "code",
   "execution_count": null,
   "metadata": {},
   "outputs": [],
   "source": [
    "def value_changer(value):\n",
    "    if value > -1: return 1\n",
    "    else: return 0\n",
    "    \n",
    "positive_filter = user_item_matrix.copy()\n",
    "    \n",
    "for row_index, row in positive_filter.iterrows():\n",
    "    positive_filter.loc[row_index] = positive_filter.loc[row_index].apply(value_changer)"
   ]
  },
  {
   "cell_type": "code",
   "execution_count": null,
   "metadata": {},
   "outputs": [],
   "source": [
    "with open('positive_filter.pkl', 'wb') as file:\n",
    "    pickle.dump(positive_filter, file)\n",
    "with open('user_item_matrix.pkl', 'wb') as file:\n",
    "    pickle.dump(user_item_matrix, file)"
   ]
  },
  {
   "cell_type": "code",
   "execution_count": null,
   "metadata": {},
   "outputs": [],
   "source": [
    "positive_filter = None\n",
    "user_item_matrix = None\n",
    "with open('positive_filter.pkl', 'rb') as file:\n",
    "    positive_filter = pickle.load(file)\n",
    "with open('user_item_matrix.pkl', 'rb') as file:\n",
    "    user_item_matrix = pickle.load(file)"
   ]
  },
  {
   "cell_type": "code",
   "execution_count": null,
   "metadata": {},
   "outputs": [],
   "source": [
    "U, V = run_als(user_item_matrix.values, positive_filter.values, k = 10, epochs = 2)"
   ]
  },
  {
   "cell_type": "code",
   "execution_count": 8,
   "metadata": {},
   "outputs": [],
   "source": [
    "class NeuMF:\n",
    "    def __init__(self, data, num_lf = 10, hidden_layers = 3, batch_size = 64):\n",
    "        user_ids = list(data['UserId'])\n",
    "        item_ids = list(data['ProductId'])\n",
    "        \n",
    "        self.num_users = len(user_ids)\n",
    "        self.num_items = len(item_ids)\n",
    "        self.num_lf = num_lf\n",
    "        self.hidden_layers = hidden_layers\n",
    "        self.batch_size = batch_size\n",
    "        \n",
    "        self.user_lookup = {}\n",
    "        self.item_lookup = {}\n",
    "        for idx in range(self.num_users):\n",
    "            self.user_lookup[user_ids[idx]] = idx\n",
    "        for idx in range(self.num_items):\n",
    "            self.item_lookup[item_ids[idx]] = idx\n",
    "        \n",
    "        # Constructing the GMF part\n",
    "        input_mf_user = keras.Input(shape = (1,), name = 'mf-user-input')\n",
    "        input_mf_item = keras.Input(shape = (1,), name = 'mf-item-input')\n",
    "        user_embedding_mf = keras.layers.Embedding(input_dim = self.num_users, output_dim = self.num_lf, input_length = 1)(input_mf_user)\n",
    "        item_embedding_mf = keras.layers.Embedding(input_dim = self.num_items, output_dim = self.num_lf, input_length = 1)(input_mf_item)\n",
    "        concat_mf = keras.layers.concatenate([user_embedding_mf, item_embedding_mf])\n",
    "        mf_layer_one = keras.layers.Dense(units = 128, activation = 'linear')(concat_mf)\n",
    "        \n",
    "        # Constructing the MLP part\n",
    "        input_mlp_user = keras.Input(shape = (1,), name = 'mlp-user-input')\n",
    "        input_mlp_item = keras.Input(shape = (1,), name = 'mlp-item-input')\n",
    "        user_embedding_mlp = keras.layers.Embedding(input_dim = self.num_users, output_dim = self.num_lf, input_length = 1)(input_mlp_user)\n",
    "        item_embedding_mlp = keras.layers.Embedding(input_dim = self.num_items, output_dim = self.num_lf, input_length = 1)(input_mlp_item)\n",
    "        concat_mlp = keras.layers.concatenate([user_embedding_mlp, item_embedding_mlp])\n",
    "        mlp_layer_one = keras.layers.Dense(units = 128, activation = 'relu')(concat_mlp)\n",
    "        mlp_layer_two = keras.layers.Dense(units = 64, activation = 'relu')(mlp_layer_one)\n",
    "        mlp_layer_three = keras.layers.Dense(units = 64, activation = 'linear')(mlp_layer_two)\n",
    "        \n",
    "        # Constructing the combined part\n",
    "        concat_mf_mlp = keras.layers.concatenate([mf_layer_one, mlp_layer_three])\n",
    "        output_layer = keras.layers.Dense(units = self.batch_size, activation = 'linear', name = 'output-layer')(concat_mf_mlp)\n",
    "        \n",
    "        # Creating the model\n",
    "        self.model = keras.Model(inputs = [input_mf_user, input_mf_item, input_mlp_user, input_mlp_item], \n",
    "                                 outputs = [output_layer], name = 'neural-collab-filtering')\n",
    "        \n",
    "    def forward(self, users, items, training = False):\n",
    "        user_ids = np.array([self.user_lookup[user] for user in users]).reshape(-1, 1)\n",
    "        item_ids = np.array([self.item_lookup[item] for item in items]).reshape(-1, 1)\n",
    "        \n",
    "        predictions = self.model({\n",
    "            'mf-user-input': user_ids, 'mf-item-input': item_ids, \n",
    "            'mlp-user-input': user_ids, 'mlp-item-input': item_ids\n",
    "        }, training = training)\n",
    "        \n",
    "        return predictions\n",
    "    \n",
    "    def train(self, train, validation = None, weight_unknown = 0.1, epochs = 5):\n",
    "        def loss(ground_data, pred_data, filter_mask, anti_filter_mask):\n",
    "            observed_loss_matrix = tf.math.multiply(tf.cast(filter_mask, dtype = tf.float32), \n",
    "                                                    (tf.cast(ground_data, dtype = tf.float32) - tf.cast(pred_data, dtype = tf.float32)))\n",
    "            unobserved_loss_matrix = tf.math.multiply(tf.cast(anti_filter_mask, dtype = tf.float32), \n",
    "                                                      (tf.cast(ground_data, dtype = tf.float32) - tf.cast(pred_data, dtype = tf.float32)))\n",
    "\n",
    "            return tf.add(tf.norm(observed_loss_matrix), weight_unknown * tf.norm(unobserved_loss_matrix))\n",
    "        \n",
    "        def grad(tape, ground_data, pred_data, filter_mask, anti_filter_mask):\n",
    "            loss_value = loss(ground_data, pred_data, filter_mask, anti_filter_mask)\n",
    "            gradients = tape.gradient(loss_value, self.model.trainable_variables)\n",
    "            return loss_value, gradients\n",
    "        \n",
    "        def value_changer(value):\n",
    "            if value == value and value != -1: return 1\n",
    "            else: return 0\n",
    "            \n",
    "        def anti_value_changer(value):\n",
    "            if value != value: return 1\n",
    "            else: return 0\n",
    "            \n",
    "        def obtain_meta_data(ground_data):\n",
    "            ground_data_master_matrix = pd.DataFrame(-1, index = range(self.batch_size), columns = range(self.batch_size))\n",
    "\n",
    "            for row_idx in range(ground_data.shape[0]):\n",
    "                for col_idx in range(ground_data.shape[1]):\n",
    "                    ground_data_master_matrix.iloc[row_idx, col_idx] = ground_data.iloc[row_idx, col_idx]\n",
    "                    \n",
    "            filter_mask = ground_data_master_matrix.copy()\n",
    "            anti_filter_mask = ground_data_master_matrix.copy()\n",
    "                    \n",
    "            for row_index, row in filter_mask.iterrows():\n",
    "                filter_mask.loc[row_index] = filter_mask.loc[row_index].apply(value_changer)\n",
    "            for row_index, row in anti_filter_mask.iterrows():\n",
    "                anti_filter_mask.loc[row_index] = anti_filter_mask.loc[row_index].apply(anti_value_changer)\n",
    "            \n",
    "            ground_data_master_matrix = ground_data_master_matrix.fillna(3)\n",
    "            ground_data_master_matrix = ground_data_master_matrix.replace(to_replace = -1, value = 0)\n",
    "            \n",
    "            filter_mask = tf.reshape(filter_mask.values, shape = [-1])\n",
    "            anti_filter_mask = tf.reshape(anti_filter_mask.values, shape = [-1])\n",
    "            ground_data = tf.reshape(ground_data_master_matrix.values, shape = [-1])\n",
    "            \n",
    "            return ground_data, filter_mask, anti_filter_mask\n",
    "        \n",
    "        history = []\n",
    "        optimizer = keras.optimizers.Adam(learning_rate = 0.005)\n",
    "        for epoch in range(epochs):\n",
    "            stats = {'loss': 10}\n",
    "            num_batches = train.shape[0] // self.batch_size\n",
    "            \n",
    "            start = 0\n",
    "            for batch in tqdm(range(num_batches), desc = 'Epoch: {}/{}'.format(epoch, epochs)):\n",
    "                with tf.GradientTape() as tape:\n",
    "                    tape.watch(self.model.trainable_variables)\n",
    "                    end = min(start + self.batch_size, train.shape[0])\n",
    "                    batch_train = train.iloc[start : end]\n",
    "\n",
    "                    ground_data = pd.pivot_table(batch_train, index = 'UserId', \n",
    "                                      columns = 'ProductId', values = 'Rating', aggfunc = np.average)\n",
    "                    \n",
    "                    flat_ratings, filter_mask, anti_filter_mask = obtain_meta_data(ground_data)\n",
    "\n",
    "                    predictions = self.forward(users = batch_train['UserId'], items = batch_train['ProductId'], training = True)\n",
    "                    predictions = tf.reshape(predictions, shape = [-1])\n",
    "\n",
    "                    loss_value, grads = grad(tape, flat_ratings, predictions, filter_mask, anti_filter_mask)\n",
    "                    optimizer.apply_gradients(zip(grads, self.model.trainable_variables))\n",
    "                \n",
    "                stats['loss'] = loss_value\n",
    "            print('Finished Epoch, loss: {}'.format(stats['loss']))\n",
    "                "
   ]
  },
  {
   "cell_type": "code",
   "execution_count": 9,
   "metadata": {},
   "outputs": [],
   "source": [
    "neu_mf = NeuMF(data_train)"
   ]
  },
  {
   "cell_type": "code",
   "execution_count": null,
   "metadata": {},
   "outputs": [],
   "source": [
    "neu_mf.model.summary()"
   ]
  },
  {
   "cell_type": "code",
   "execution_count": 10,
   "metadata": {},
   "outputs": [
    {
     "name": "stderr",
     "output_type": "stream",
     "text": [
      "Epoch: 0/1: 100%|██████████| 704/704 [21:15<00:00,  1.81s/it]"
     ]
    },
    {
     "name": "stdout",
     "output_type": "stream",
     "text": [
      "Finished Epoch, loss: 0.3466905653476715\n"
     ]
    },
    {
     "name": "stderr",
     "output_type": "stream",
     "text": [
      "\n"
     ]
    }
   ],
   "source": [
    "neu_mf.train(data_train, epochs = 1)"
   ]
  },
  {
   "cell_type": "code",
   "execution_count": null,
   "metadata": {},
   "outputs": [],
   "source": []
  }
 ],
 "metadata": {
  "kernelspec": {
   "display_name": "Python 3",
   "language": "python",
   "name": "python3"
  },
  "language_info": {
   "codemirror_mode": {
    "name": "ipython",
    "version": 3
   },
   "file_extension": ".py",
   "mimetype": "text/x-python",
   "name": "python",
   "nbconvert_exporter": "python",
   "pygments_lexer": "ipython3",
   "version": "3.7.4"
  }
 },
 "nbformat": 4,
 "nbformat_minor": 2
}
