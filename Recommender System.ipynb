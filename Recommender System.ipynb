{
 "cells": [
  {
   "cell_type": "markdown",
   "metadata": {},
   "source": [
    "# Recommender Systems\n",
    "\n",
    "This notebook serves the following purposes - \n",
    "1. It acts as a tutorial for anyone wishing to get a deep dive into Recommendation algorithms.\n",
    "2. Contrats between various techniques that are popularly used for Recommender Systems.\n",
    "3. Briefly discuss on the various evaluation metrics for Recommender Systems.\n",
    "\n",
    "The techniques that will be discussed are - \n",
    "1. Collaborative Filtering: User-User based.\n",
    "2. Collaborative Filtering: Item-Item based.\n",
    "3. Latent Factor Method: SVD.\n",
    "\n",
    "I will be using the Amazon Product Reviews dataset in order to perform this comparison."
   ]
  },
  {
   "cell_type": "code",
   "execution_count": 17,
   "metadata": {},
   "outputs": [],
   "source": [
    "# Imports\n",
    "import sys\n",
    "import numpy as np\n",
    "import pandas as pd\n",
    "from matplotlib import pyplot as plt\n",
    "from sklearn.model_selection import train_test_split\n",
    "from tqdm import tqdm\n",
    "import time\n",
    "from sklearn.metrics import mean_squared_error\n",
    "from sklearn.neighbors import BallTree"
   ]
  },
  {
   "cell_type": "code",
   "execution_count": 2,
   "metadata": {},
   "outputs": [],
   "source": [
    "dataset = pd.read_csv('ratings_Beauty.csv')"
   ]
  },
  {
   "cell_type": "code",
   "execution_count": 3,
   "metadata": {
    "scrolled": true
   },
   "outputs": [
    {
     "name": "stdout",
     "output_type": "stream",
     "text": [
      "<class 'pandas.core.frame.DataFrame'>\n",
      "RangeIndex: 2023070 entries, 0 to 2023069\n",
      "Data columns (total 4 columns):\n",
      "UserId       object\n",
      "ProductId    object\n",
      "Rating       float64\n",
      "Timestamp    int64\n",
      "dtypes: float64(1), int64(1), object(2)\n",
      "memory usage: 61.7+ MB\n",
      "None\n"
     ]
    },
    {
     "data": {
      "text/html": [
       "<div>\n",
       "<style scoped>\n",
       "    .dataframe tbody tr th:only-of-type {\n",
       "        vertical-align: middle;\n",
       "    }\n",
       "\n",
       "    .dataframe tbody tr th {\n",
       "        vertical-align: top;\n",
       "    }\n",
       "\n",
       "    .dataframe thead th {\n",
       "        text-align: right;\n",
       "    }\n",
       "</style>\n",
       "<table border=\"1\" class=\"dataframe\">\n",
       "  <thead>\n",
       "    <tr style=\"text-align: right;\">\n",
       "      <th></th>\n",
       "      <th>UserId</th>\n",
       "      <th>ProductId</th>\n",
       "      <th>Rating</th>\n",
       "      <th>Timestamp</th>\n",
       "    </tr>\n",
       "  </thead>\n",
       "  <tbody>\n",
       "    <tr>\n",
       "      <td>0</td>\n",
       "      <td>A39HTATAQ9V7YF</td>\n",
       "      <td>0205616461</td>\n",
       "      <td>5.0</td>\n",
       "      <td>1369699200</td>\n",
       "    </tr>\n",
       "    <tr>\n",
       "      <td>1</td>\n",
       "      <td>A3JM6GV9MNOF9X</td>\n",
       "      <td>0558925278</td>\n",
       "      <td>3.0</td>\n",
       "      <td>1355443200</td>\n",
       "    </tr>\n",
       "    <tr>\n",
       "      <td>2</td>\n",
       "      <td>A1Z513UWSAAO0F</td>\n",
       "      <td>0558925278</td>\n",
       "      <td>5.0</td>\n",
       "      <td>1404691200</td>\n",
       "    </tr>\n",
       "    <tr>\n",
       "      <td>3</td>\n",
       "      <td>A1WMRR494NWEWV</td>\n",
       "      <td>0733001998</td>\n",
       "      <td>4.0</td>\n",
       "      <td>1382572800</td>\n",
       "    </tr>\n",
       "  </tbody>\n",
       "</table>\n",
       "</div>"
      ],
      "text/plain": [
       "           UserId   ProductId  Rating   Timestamp\n",
       "0  A39HTATAQ9V7YF  0205616461     5.0  1369699200\n",
       "1  A3JM6GV9MNOF9X  0558925278     3.0  1355443200\n",
       "2  A1Z513UWSAAO0F  0558925278     5.0  1404691200\n",
       "3  A1WMRR494NWEWV  0733001998     4.0  1382572800"
      ]
     },
     "execution_count": 3,
     "metadata": {},
     "output_type": "execute_result"
    }
   ],
   "source": [
    "print(dataset.info())\n",
    "dataset.head(4)"
   ]
  },
  {
   "cell_type": "markdown",
   "metadata": {},
   "source": [
    "The dataset has 4 columns - UserID, ProductID, Rating and the Timestamp of rating. For the initial systems, we would be ignoring the Timestamp data. From this dataset, we would be creating a User-Item-Rating matrix. In order to test it in acceptable time, we will be using only 25000 rows of the data."
   ]
  },
  {
   "cell_type": "markdown",
   "metadata": {},
   "source": [
    "The first technique that we will follow is Collaborative Filtering using User similarity. We will use two similarity metric - Euclidean distance and Cosine similarity. Let's then analyze how the two fare against each other."
   ]
  },
  {
   "cell_type": "code",
   "execution_count": 4,
   "metadata": {},
   "outputs": [],
   "source": [
    "# Disclaimer - The code from this progress bar has been inspired by - \n",
    "\n",
    "def log_progress(sequence, every=None, size=None, name='Items'):\n",
    "    from ipywidgets import IntProgress, HTML, VBox\n",
    "    from IPython.display import display\n",
    "\n",
    "    is_iterator = False\n",
    "    if size is None:\n",
    "        try:\n",
    "            size = len(sequence)\n",
    "        except TypeError:\n",
    "            is_iterator = True\n",
    "    if size is not None:\n",
    "        if every is None:\n",
    "            if size <= 200:\n",
    "                every = 1\n",
    "            else:\n",
    "                every = int(size / 200)     # every 0.5%\n",
    "    else:\n",
    "        assert every is not None, 'sequence is iterator, set every'\n",
    "\n",
    "    if is_iterator:\n",
    "        progress = IntProgress(min=0, max=1, value=1)\n",
    "        progress.bar_style = 'info'\n",
    "    else:\n",
    "        progress = IntProgress(min=0, max=size, value=0)\n",
    "    label = HTML()\n",
    "    box = VBox(children=[label, progress])\n",
    "    display(box)\n",
    "\n",
    "    index = 0\n",
    "    try:\n",
    "        for index, record in enumerate(sequence, 1):\n",
    "            if index == 1 or index % every == 0:\n",
    "                if is_iterator:\n",
    "                    label.value = '{name}: {index} / ?'.format(\n",
    "                        name=name,\n",
    "                        index=index\n",
    "                    )\n",
    "                else:\n",
    "                    progress.value = index\n",
    "                    label.value = u'{name}: {index} / {size}'.format(\n",
    "                        name=name,\n",
    "                        index=index,\n",
    "                        size=size\n",
    "                    )\n",
    "            yield record\n",
    "    except:\n",
    "        progress.bar_style = 'danger'\n",
    "        raise\n",
    "    else:\n",
    "        progress.bar_style = 'success'\n",
    "        progress.value = index\n",
    "        label.value = \"{name}: {index}\".format(\n",
    "            name=name,\n",
    "            index=str(index or '?')\n",
    "        )"
   ]
  },
  {
   "cell_type": "markdown",
   "metadata": {},
   "source": [
    "## Memory Based Collaborative Filtering"
   ]
  },
  {
   "cell_type": "code",
   "execution_count": 22,
   "metadata": {},
   "outputs": [],
   "source": [
    "class Recommender:\n",
    "    def __init__(self, strategy = 'user', neighbours = 10):\n",
    "        self.strategy = strategy\n",
    "        self.num_neighbours = neighbours\n",
    "        if strategy is 'user':\n",
    "            self.columns = ['User_' + str(index) for index in range(1, self.num_neighbours + 1)]\n",
    "        elif strategy is 'item':\n",
    "            self.columns = ['Item_' + str(index) for index in range(1, self.num_neighbours + 1)]\n",
    "        \n",
    "    def fit(self, matrix):\n",
    "        if self.strategy is 'user':\n",
    "            # User - User based collaborative filtering\n",
    "            start_time = time.time()\n",
    "            self.user_item_matrix = matrix\n",
    "            self.mapper_indices = matrix.index\n",
    "            self.user_tree = BallTree(matrix, leaf_size = self.num_neighbours * 2)\n",
    "            time_taken = time.time() - start_time\n",
    "            print('Model built in {} seconds'.format(time_taken))\n",
    "            return self\n",
    "        \n",
    "        elif self.strategy is 'item':\n",
    "            # Item - Item based collaborative filtering\n",
    "            start_time = time.time()\n",
    "            matrix = matrix.T\n",
    "            self.item_user_matrix = matrix\n",
    "            self.mapper_indices = matrix.index\n",
    "            self.item_tree = BallTree(matrix, leaf_size = self.num_neighbours * 2)\n",
    "            time_taken = time.time() - start_time\n",
    "            print('Model built in {} seconds'.format(time_taken))\n",
    "            return self\n",
    "            \n",
    "                    \n",
    "    def predict(self, X_test):\n",
    "        if self.strategy is 'user':\n",
    "            y_pred = pd.Series(index = X_test.index)\n",
    "            \n",
    "            for index in tqdm(X_test.index, desc = 'Predicting Ratings'):\n",
    "                row = X_test.loc[index]\n",
    "                target_user = row['UserId']\n",
    "                target_product = row['ProductId']\n",
    "                \n",
    "                if target_user not in self.user_item_matrix.index:\n",
    "                    y_pred[index] = 0\n",
    "                    continue\n",
    "                \n",
    "                user_attributes = self.user_item_matrix.loc[target_user]\n",
    "                _, neighbour_indices = self.user_tree.query(user_attributes.values.reshape(1, -1), k = self.num_neighbours)\n",
    "                \n",
    "                rating = 0\n",
    "                for neighbour_index in neighbour_indices:\n",
    "                    user = self.mapper_indices[neighbour_index]\n",
    "                    if target_product in self.user_item_matrix.loc[user].index:\n",
    "                        rating += self.user_item_matrix.loc[user, target_product]\n",
    "                    else:\n",
    "                        rating += 0\n",
    "                avg_rating = rating/self.num_neighbours\n",
    "                y_pred.loc[index] = avg_rating\n",
    "                \n",
    "            return y_pred.values\n",
    "        \n",
    "        elif self.strategy is 'item':\n",
    "            y_pred = pd.Series(index = X_test.index)\n",
    "            \n",
    "            for index in tqdm(X_test.index, desc = 'Predicting Ratings'):\n",
    "                row = X_test.loc[index]\n",
    "                target_user = row['UserId']\n",
    "                target_product = row['ProductId']\n",
    "                \n",
    "                if target_product not in self.item_user_matrix.index:\n",
    "                    y_pred[index] = 0\n",
    "                    continue\n",
    "                \n",
    "                item_attributes = self.item_user_matrix.loc[target_product]\n",
    "                _, neighbour_indices = self.item_tree.query(item_attributes.values.reshape(1, -1), k = self.num_neighbours)\n",
    "                \n",
    "                rating = 0\n",
    "                for neighbour_index in neighbour_indices:\n",
    "                    product = self.mapper_indices[neighbour_index]\n",
    "                    if target_user in self.item_user_matrix.loc[product].index:\n",
    "                        rating += self.item_user_matrix.loc[product, target_user]\n",
    "                    else:\n",
    "                        rating += 0\n",
    "                avg_rating = rating/self.num_neighbours\n",
    "                y_pred.loc[index] = avg_rating\n",
    "                \n",
    "            return y_pred.values\n",
    "        \n",
    "    def recommend_items(self, id, num_recommendations = 10):\n",
    "        if self.strategy is 'user':\n",
    "            user_id = id\n",
    "            \n",
    "            if user_id not in self.user_item_matrix.index:\n",
    "                # New user - We will be looking at this case later on\n",
    "                return None\n",
    "            \n",
    "            user_attributes = self.user_item_matrix.loc[user_id]\n",
    "            distances, neighbour_indices = self.user_tree.query(user_attributes.values.reshape(1, -1), k = self.num_neighbours + 1)\n",
    "            distances = distances[0]\n",
    "            neighbour_indices = neighbour_indices[0]\n",
    "            \n",
    "            # We will be scoring each product by the user's distance from the target user and the \n",
    "            # rating given by the user to the item.\n",
    "            recommendations = pd.DataFrame(columns = ['ProductId', 'Recommendability'])\n",
    "            \n",
    "            for index, neighbour_index in enumerate(neighbour_indices):\n",
    "                user = self.mapper_indices[neighbour_index]\n",
    "                user_similarity = 1 - distances[index]\n",
    "                products_with_ratings = self.user_item_matrix.loc[user]\n",
    "                \n",
    "                for product_id in products_with_ratings.index:\n",
    "                    recommendability = user_similarity * products_with_ratings.loc[product_id]\n",
    "                    recommendation = {'ProductId': product_id, 'Recommendability': recommendability}\n",
    "                    recommendations = recommendations.append(recommendation, ignore_index = True)\n",
    "            \n",
    "            recommendations.sort_values(by = 'Recommendability', ascending = False, inplace = True)\n",
    "            recommendations = recommendations[~recommendations.duplicated('ProductId')]\n",
    "            \n",
    "            max_recommendations = min(num_recommendations, recommendations.shape[0])\n",
    "            return recommendations.iloc[:max_recommendations, :-1]\n",
    "        \n",
    "        elif self.strategy is 'item':\n",
    "            product_id = id\n",
    "            \n",
    "            if product_id not in self.item_user_matrix.index:\n",
    "                # New product - We will be looking at this case later on\n",
    "                return None\n",
    "            \n",
    "            product_attributes = self.item_user_matrix.loc[product_id]\n",
    "            distances, neighbour_indices = self.item_tree.query(product_attributes.values.reshape(1, -1), k = num_recommendations)\n",
    "            distances = distances[0]\n",
    "            neighbour_indices = neighbour_indices[0]\n",
    "            \n",
    "            recommendations = pd.DataFrame(columns = ['ProductId', 'Recommendability'])\n",
    "            \n",
    "            for index, neighbour_index in enumerate(neighbour_indices):\n",
    "                product_id = self.mapper_indices[neighbour_index]\n",
    "                product_similarity = 1 - distances[index]\n",
    "                \n",
    "                recommendation = {'ProductId': product_id, 'Recommendability': product_similarity}\n",
    "                recommendations = recommendations.append(recommendation, ignore_index = True)\n",
    "            \n",
    "            recommendations.sort_values(by = 'Recommendability', ascending = False, inplace = True)\n",
    "            \n",
    "            return recommendations.iloc[1:, :-1]"
   ]
  },
  {
   "cell_type": "markdown",
   "metadata": {},
   "source": [
    "I will be checking the predicting ability of both __User - User__ & __Item - Item__ based Collaborative Filtering at first. For that I would take those products which are rated an appreciable number of times (atleast 500 ratings).\n",
    "\n",
    "#### Objectives - \n",
    "- Check the effect of replacing NaN values with mean, with mode, with median and with 0.\n",
    "- Check which method gives best result for newly added users/items, and how do you apply them!"
   ]
  },
  {
   "cell_type": "code",
   "execution_count": 5,
   "metadata": {},
   "outputs": [],
   "source": [
    "# Let's look at the ratings count of the products\n",
    "gb_product = dataset.groupby('ProductId').size()\n",
    "gb_product = gb_product.sort_values()"
   ]
  },
  {
   "cell_type": "code",
   "execution_count": 6,
   "metadata": {},
   "outputs": [
    {
     "data": {
      "image/png": "[encoded data removed]",
      "text/plain": [
       "<Figure size 432x288 with 1 Axes>"
      ]
     },
     "metadata": {
      "needs_background": "light"
     },
     "output_type": "display_data"
    },
    {
     "name": "stdout",
     "output_type": "stream",
     "text": [
      "174\n"
     ]
    },
    {
     "data": {
      "image/png": "[encoded data removed]",
      "text/plain": [
       "<Figure size 432x288 with 1 Axes>"
      ]
     },
     "metadata": {
      "needs_background": "light"
     },
     "output_type": "display_data"
    }
   ],
   "source": [
    "plt.plot(range(1, gb_product.shape[0] + 1), gb_product.values)\n",
    "plt.show()\n",
    "high_rated_products = gb_product[gb_product >= 500]\n",
    "plt.plot(range(1, high_rated_products.shape[0] + 1), high_rated_products.values)\n",
    "print(high_rated_products.shape[0])"
   ]
  },
  {
   "cell_type": "markdown",
   "metadata": {},
   "source": [
    "We can see that there are a total of 174 products that are rated above 500 times. In order to see good results, we will focus on these products only."
   ]
  },
  {
   "cell_type": "code",
   "execution_count": 7,
   "metadata": {},
   "outputs": [],
   "source": [
    "data_complete = dataset.loc[dataset['ProductId'].isin(high_rated_products.index)]\n",
    "data = data_complete.iloc[:, :-1]"
   ]
  },
  {
   "cell_type": "code",
   "execution_count": 8,
   "metadata": {},
   "outputs": [],
   "source": [
    "data_train, data_test, _, _ = train_test_split(data, np.zeros(data.shape[0]), test_size = 0.2)"
   ]
  },
  {
   "cell_type": "code",
   "execution_count": 9,
   "metadata": {},
   "outputs": [],
   "source": [
    "user_item_matrix_raw = pd.pivot_table(data_train, index = 'UserId', \n",
    "                                  columns = 'ProductId', values = 'Rating', aggfunc = np.sum)"
   ]
  },
  {
   "cell_type": "code",
   "execution_count": 10,
   "metadata": {
    "scrolled": true
   },
   "outputs": [
    {
     "name": "stdout",
     "output_type": "stream",
     "text": [
      "(109610, 174)\n"
     ]
    },
    {
     "data": {
      "text/html": [
       "<div>\n",
       "<style scoped>\n",
       "    .dataframe tbody tr th:only-of-type {\n",
       "        vertical-align: middle;\n",
       "    }\n",
       "\n",
       "    .dataframe tbody tr th {\n",
       "        vertical-align: top;\n",
       "    }\n",
       "\n",
       "    .dataframe thead th {\n",
       "        text-align: right;\n",
       "    }\n",
       "</style>\n",
       "<table border=\"1\" class=\"dataframe\">\n",
       "  <thead>\n",
       "    <tr style=\"text-align: right;\">\n",
       "      <th>ProductId</th>\n",
       "      <th>B00004TUBL</th>\n",
       "      <th>B0000530ED</th>\n",
       "      <th>B00005O0MZ</th>\n",
       "      <th>B0000632EN</th>\n",
       "      <th>B00006IV2F</th>\n",
       "      <th>B0000AFUTL</th>\n",
       "      <th>B0000CC64W</th>\n",
       "      <th>B0000YUXI0</th>\n",
       "      <th>B0000ZLEFU</th>\n",
       "      <th>B00011QUDE</th>\n",
       "      <th>...</th>\n",
       "      <th>B00C7DYBX0</th>\n",
       "      <th>B00CFRBIC0</th>\n",
       "      <th>B00CNOUZE2</th>\n",
       "      <th>B00D6EDGYE</th>\n",
       "      <th>B00E68O4JU</th>\n",
       "      <th>B00FAEOCP0</th>\n",
       "      <th>B00GFBWWWC</th>\n",
       "      <th>B00GP184WO</th>\n",
       "      <th>B00I073WLE</th>\n",
       "      <th>B00IALDHDI</th>\n",
       "    </tr>\n",
       "    <tr>\n",
       "      <th>UserId</th>\n",
       "      <th></th>\n",
       "      <th></th>\n",
       "      <th></th>\n",
       "      <th></th>\n",
       "      <th></th>\n",
       "      <th></th>\n",
       "      <th></th>\n",
       "      <th></th>\n",
       "      <th></th>\n",
       "      <th></th>\n",
       "      <th></th>\n",
       "      <th></th>\n",
       "      <th></th>\n",
       "      <th></th>\n",
       "      <th></th>\n",
       "      <th></th>\n",
       "      <th></th>\n",
       "      <th></th>\n",
       "      <th></th>\n",
       "      <th></th>\n",
       "      <th></th>\n",
       "    </tr>\n",
       "  </thead>\n",
       "  <tbody>\n",
       "    <tr>\n",
       "      <td>A00120381FL204MYH7G3B</td>\n",
       "      <td>NaN</td>\n",
       "      <td>NaN</td>\n",
       "      <td>NaN</td>\n",
       "      <td>NaN</td>\n",
       "      <td>NaN</td>\n",
       "      <td>NaN</td>\n",
       "      <td>NaN</td>\n",
       "      <td>NaN</td>\n",
       "      <td>NaN</td>\n",
       "      <td>NaN</td>\n",
       "      <td>...</td>\n",
       "      <td>NaN</td>\n",
       "      <td>NaN</td>\n",
       "      <td>NaN</td>\n",
       "      <td>NaN</td>\n",
       "      <td>NaN</td>\n",
       "      <td>NaN</td>\n",
       "      <td>NaN</td>\n",
       "      <td>NaN</td>\n",
       "      <td>NaN</td>\n",
       "      <td>NaN</td>\n",
       "    </tr>\n",
       "    <tr>\n",
       "      <td>A00275441WYR3489IKNAB</td>\n",
       "      <td>NaN</td>\n",
       "      <td>NaN</td>\n",
       "      <td>NaN</td>\n",
       "      <td>NaN</td>\n",
       "      <td>NaN</td>\n",
       "      <td>NaN</td>\n",
       "      <td>NaN</td>\n",
       "      <td>NaN</td>\n",
       "      <td>NaN</td>\n",
       "      <td>NaN</td>\n",
       "      <td>...</td>\n",
       "      <td>NaN</td>\n",
       "      <td>NaN</td>\n",
       "      <td>NaN</td>\n",
       "      <td>NaN</td>\n",
       "      <td>NaN</td>\n",
       "      <td>NaN</td>\n",
       "      <td>NaN</td>\n",
       "      <td>NaN</td>\n",
       "      <td>NaN</td>\n",
       "      <td>NaN</td>\n",
       "    </tr>\n",
       "    <tr>\n",
       "      <td>A00328401T70RFN4P1IT6</td>\n",
       "      <td>NaN</td>\n",
       "      <td>NaN</td>\n",
       "      <td>NaN</td>\n",
       "      <td>NaN</td>\n",
       "      <td>NaN</td>\n",
       "      <td>NaN</td>\n",
       "      <td>NaN</td>\n",
       "      <td>NaN</td>\n",
       "      <td>NaN</td>\n",
       "      <td>NaN</td>\n",
       "      <td>...</td>\n",
       "      <td>NaN</td>\n",
       "      <td>NaN</td>\n",
       "      <td>NaN</td>\n",
       "      <td>NaN</td>\n",
       "      <td>NaN</td>\n",
       "      <td>NaN</td>\n",
       "      <td>NaN</td>\n",
       "      <td>NaN</td>\n",
       "      <td>NaN</td>\n",
       "      <td>NaN</td>\n",
       "    </tr>\n",
       "    <tr>\n",
       "      <td>A00454102SR84NOYTI0JS</td>\n",
       "      <td>NaN</td>\n",
       "      <td>NaN</td>\n",
       "      <td>NaN</td>\n",
       "      <td>NaN</td>\n",
       "      <td>NaN</td>\n",
       "      <td>NaN</td>\n",
       "      <td>NaN</td>\n",
       "      <td>NaN</td>\n",
       "      <td>NaN</td>\n",
       "      <td>NaN</td>\n",
       "      <td>...</td>\n",
       "      <td>NaN</td>\n",
       "      <td>NaN</td>\n",
       "      <td>NaN</td>\n",
       "      <td>NaN</td>\n",
       "      <td>NaN</td>\n",
       "      <td>NaN</td>\n",
       "      <td>NaN</td>\n",
       "      <td>NaN</td>\n",
       "      <td>NaN</td>\n",
       "      <td>NaN</td>\n",
       "    </tr>\n",
       "  </tbody>\n",
       "</table>\n",
       "<p>4 rows × 174 columns</p>\n",
       "</div>"
      ],
      "text/plain": [
       "ProductId              B00004TUBL  B0000530ED  B00005O0MZ  B0000632EN  \\\n",
       "UserId                                                                  \n",
       "A00120381FL204MYH7G3B         NaN         NaN         NaN         NaN   \n",
       "A00275441WYR3489IKNAB         NaN         NaN         NaN         NaN   \n",
       "A00328401T70RFN4P1IT6         NaN         NaN         NaN         NaN   \n",
       "A00454102SR84NOYTI0JS         NaN         NaN         NaN         NaN   \n",
       "\n",
       "ProductId              B00006IV2F  B0000AFUTL  B0000CC64W  B0000YUXI0  \\\n",
       "UserId                                                                  \n",
       "A00120381FL204MYH7G3B         NaN         NaN         NaN         NaN   \n",
       "A00275441WYR3489IKNAB         NaN         NaN         NaN         NaN   \n",
       "A00328401T70RFN4P1IT6         NaN         NaN         NaN         NaN   \n",
       "A00454102SR84NOYTI0JS         NaN         NaN         NaN         NaN   \n",
       "\n",
       "ProductId              B0000ZLEFU  B00011QUDE  ...  B00C7DYBX0  B00CFRBIC0  \\\n",
       "UserId                                         ...                           \n",
       "A00120381FL204MYH7G3B         NaN         NaN  ...         NaN         NaN   \n",
       "A00275441WYR3489IKNAB         NaN         NaN  ...         NaN         NaN   \n",
       "A00328401T70RFN4P1IT6         NaN         NaN  ...         NaN         NaN   \n",
       "A00454102SR84NOYTI0JS         NaN         NaN  ...         NaN         NaN   \n",
       "\n",
       "ProductId              B00CNOUZE2  B00D6EDGYE  B00E68O4JU  B00FAEOCP0  \\\n",
       "UserId                                                                  \n",
       "A00120381FL204MYH7G3B         NaN         NaN         NaN         NaN   \n",
       "A00275441WYR3489IKNAB         NaN         NaN         NaN         NaN   \n",
       "A00328401T70RFN4P1IT6         NaN         NaN         NaN         NaN   \n",
       "A00454102SR84NOYTI0JS         NaN         NaN         NaN         NaN   \n",
       "\n",
       "ProductId              B00GFBWWWC  B00GP184WO  B00I073WLE  B00IALDHDI  \n",
       "UserId                                                                 \n",
       "A00120381FL204MYH7G3B         NaN         NaN         NaN         NaN  \n",
       "A00275441WYR3489IKNAB         NaN         NaN         NaN         NaN  \n",
       "A00328401T70RFN4P1IT6         NaN         NaN         NaN         NaN  \n",
       "A00454102SR84NOYTI0JS         NaN         NaN         NaN         NaN  \n",
       "\n",
       "[4 rows x 174 columns]"
      ]
     },
     "execution_count": 10,
     "metadata": {},
     "output_type": "execute_result"
    }
   ],
   "source": [
    "print(user_item_matrix_raw.shape)\n",
    "user_item_matrix_raw.head(4)"
   ]
  },
  {
   "cell_type": "markdown",
   "metadata": {},
   "source": [
    "The training data has ~1 lakh users and 174 products. Let's look at the sparsity of the User-Item matrix."
   ]
  },
  {
   "cell_type": "code",
   "execution_count": 11,
   "metadata": {},
   "outputs": [
    {
     "name": "stdout",
     "output_type": "stream",
     "text": [
      "The sparsity of the matrix is: 0.9937762621289483\n"
     ]
    }
   ],
   "source": [
    "sparsity = np.isnan(user_item_matrix_raw.values).sum()/np.prod(user_item_matrix_raw.shape)\n",
    "print('The sparsity of the matrix is: {}'.format(sparsity))"
   ]
  },
  {
   "cell_type": "markdown",
   "metadata": {},
   "source": [
    "This means that only 0.067% of the matrix has values."
   ]
  },
  {
   "cell_type": "code",
   "execution_count": 12,
   "metadata": {},
   "outputs": [
    {
     "data": {
      "text/html": [
       "<div>\n",
       "<style scoped>\n",
       "    .dataframe tbody tr th:only-of-type {\n",
       "        vertical-align: middle;\n",
       "    }\n",
       "\n",
       "    .dataframe tbody tr th {\n",
       "        vertical-align: top;\n",
       "    }\n",
       "\n",
       "    .dataframe thead th {\n",
       "        text-align: right;\n",
       "    }\n",
       "</style>\n",
       "<table border=\"1\" class=\"dataframe\">\n",
       "  <thead>\n",
       "    <tr style=\"text-align: right;\">\n",
       "      <th>ProductId</th>\n",
       "      <th>B00004TUBL</th>\n",
       "      <th>B0000530ED</th>\n",
       "      <th>B00005O0MZ</th>\n",
       "      <th>B0000632EN</th>\n",
       "      <th>B00006IV2F</th>\n",
       "      <th>B0000AFUTL</th>\n",
       "      <th>B0000CC64W</th>\n",
       "      <th>B0000YUXI0</th>\n",
       "      <th>B0000ZLEFU</th>\n",
       "      <th>B00011QUDE</th>\n",
       "      <th>...</th>\n",
       "      <th>B00C7DYBX0</th>\n",
       "      <th>B00CFRBIC0</th>\n",
       "      <th>B00CNOUZE2</th>\n",
       "      <th>B00D6EDGYE</th>\n",
       "      <th>B00E68O4JU</th>\n",
       "      <th>B00FAEOCP0</th>\n",
       "      <th>B00GFBWWWC</th>\n",
       "      <th>B00GP184WO</th>\n",
       "      <th>B00I073WLE</th>\n",
       "      <th>B00IALDHDI</th>\n",
       "    </tr>\n",
       "    <tr>\n",
       "      <th>UserId</th>\n",
       "      <th></th>\n",
       "      <th></th>\n",
       "      <th></th>\n",
       "      <th></th>\n",
       "      <th></th>\n",
       "      <th></th>\n",
       "      <th></th>\n",
       "      <th></th>\n",
       "      <th></th>\n",
       "      <th></th>\n",
       "      <th></th>\n",
       "      <th></th>\n",
       "      <th></th>\n",
       "      <th></th>\n",
       "      <th></th>\n",
       "      <th></th>\n",
       "      <th></th>\n",
       "      <th></th>\n",
       "      <th></th>\n",
       "      <th></th>\n",
       "      <th></th>\n",
       "    </tr>\n",
       "  </thead>\n",
       "  <tbody>\n",
       "    <tr>\n",
       "      <td>A00120381FL204MYH7G3B</td>\n",
       "      <td>4.664502</td>\n",
       "      <td>3.502137</td>\n",
       "      <td>4.077731</td>\n",
       "      <td>3.97331</td>\n",
       "      <td>4.325704</td>\n",
       "      <td>4.576832</td>\n",
       "      <td>4.338115</td>\n",
       "      <td>4.395688</td>\n",
       "      <td>3.708046</td>\n",
       "      <td>3.635945</td>\n",
       "      <td>...</td>\n",
       "      <td>4.005682</td>\n",
       "      <td>4.595313</td>\n",
       "      <td>4.629885</td>\n",
       "      <td>4.426914</td>\n",
       "      <td>3.77381</td>\n",
       "      <td>4.4</td>\n",
       "      <td>4.593674</td>\n",
       "      <td>4.357143</td>\n",
       "      <td>4.494135</td>\n",
       "      <td>4.06701</td>\n",
       "    </tr>\n",
       "    <tr>\n",
       "      <td>A00275441WYR3489IKNAB</td>\n",
       "      <td>4.664502</td>\n",
       "      <td>3.502137</td>\n",
       "      <td>4.077731</td>\n",
       "      <td>3.97331</td>\n",
       "      <td>4.325704</td>\n",
       "      <td>4.576832</td>\n",
       "      <td>4.338115</td>\n",
       "      <td>4.395688</td>\n",
       "      <td>3.708046</td>\n",
       "      <td>3.635945</td>\n",
       "      <td>...</td>\n",
       "      <td>4.005682</td>\n",
       "      <td>4.595313</td>\n",
       "      <td>4.629885</td>\n",
       "      <td>4.426914</td>\n",
       "      <td>3.77381</td>\n",
       "      <td>4.4</td>\n",
       "      <td>4.593674</td>\n",
       "      <td>4.357143</td>\n",
       "      <td>4.494135</td>\n",
       "      <td>4.06701</td>\n",
       "    </tr>\n",
       "    <tr>\n",
       "      <td>A00328401T70RFN4P1IT6</td>\n",
       "      <td>4.664502</td>\n",
       "      <td>3.502137</td>\n",
       "      <td>4.077731</td>\n",
       "      <td>3.97331</td>\n",
       "      <td>4.325704</td>\n",
       "      <td>4.576832</td>\n",
       "      <td>4.338115</td>\n",
       "      <td>4.395688</td>\n",
       "      <td>3.708046</td>\n",
       "      <td>3.635945</td>\n",
       "      <td>...</td>\n",
       "      <td>4.005682</td>\n",
       "      <td>4.595313</td>\n",
       "      <td>4.629885</td>\n",
       "      <td>4.426914</td>\n",
       "      <td>3.77381</td>\n",
       "      <td>4.4</td>\n",
       "      <td>4.593674</td>\n",
       "      <td>4.357143</td>\n",
       "      <td>4.494135</td>\n",
       "      <td>4.06701</td>\n",
       "    </tr>\n",
       "    <tr>\n",
       "      <td>A00454102SR84NOYTI0JS</td>\n",
       "      <td>4.664502</td>\n",
       "      <td>3.502137</td>\n",
       "      <td>4.077731</td>\n",
       "      <td>3.97331</td>\n",
       "      <td>4.325704</td>\n",
       "      <td>4.576832</td>\n",
       "      <td>4.338115</td>\n",
       "      <td>4.395688</td>\n",
       "      <td>3.708046</td>\n",
       "      <td>3.635945</td>\n",
       "      <td>...</td>\n",
       "      <td>4.005682</td>\n",
       "      <td>4.595313</td>\n",
       "      <td>4.629885</td>\n",
       "      <td>4.426914</td>\n",
       "      <td>3.77381</td>\n",
       "      <td>4.4</td>\n",
       "      <td>4.593674</td>\n",
       "      <td>4.357143</td>\n",
       "      <td>4.494135</td>\n",
       "      <td>4.06701</td>\n",
       "    </tr>\n",
       "  </tbody>\n",
       "</table>\n",
       "<p>4 rows × 174 columns</p>\n",
       "</div>"
      ],
      "text/plain": [
       "ProductId              B00004TUBL  B0000530ED  B00005O0MZ  B0000632EN  \\\n",
       "UserId                                                                  \n",
       "A00120381FL204MYH7G3B    4.664502    3.502137    4.077731     3.97331   \n",
       "A00275441WYR3489IKNAB    4.664502    3.502137    4.077731     3.97331   \n",
       "A00328401T70RFN4P1IT6    4.664502    3.502137    4.077731     3.97331   \n",
       "A00454102SR84NOYTI0JS    4.664502    3.502137    4.077731     3.97331   \n",
       "\n",
       "ProductId              B00006IV2F  B0000AFUTL  B0000CC64W  B0000YUXI0  \\\n",
       "UserId                                                                  \n",
       "A00120381FL204MYH7G3B    4.325704    4.576832    4.338115    4.395688   \n",
       "A00275441WYR3489IKNAB    4.325704    4.576832    4.338115    4.395688   \n",
       "A00328401T70RFN4P1IT6    4.325704    4.576832    4.338115    4.395688   \n",
       "A00454102SR84NOYTI0JS    4.325704    4.576832    4.338115    4.395688   \n",
       "\n",
       "ProductId              B0000ZLEFU  B00011QUDE  ...  B00C7DYBX0  B00CFRBIC0  \\\n",
       "UserId                                         ...                           \n",
       "A00120381FL204MYH7G3B    3.708046    3.635945  ...    4.005682    4.595313   \n",
       "A00275441WYR3489IKNAB    3.708046    3.635945  ...    4.005682    4.595313   \n",
       "A00328401T70RFN4P1IT6    3.708046    3.635945  ...    4.005682    4.595313   \n",
       "A00454102SR84NOYTI0JS    3.708046    3.635945  ...    4.005682    4.595313   \n",
       "\n",
       "ProductId              B00CNOUZE2  B00D6EDGYE  B00E68O4JU  B00FAEOCP0  \\\n",
       "UserId                                                                  \n",
       "A00120381FL204MYH7G3B    4.629885    4.426914     3.77381         4.4   \n",
       "A00275441WYR3489IKNAB    4.629885    4.426914     3.77381         4.4   \n",
       "A00328401T70RFN4P1IT6    4.629885    4.426914     3.77381         4.4   \n",
       "A00454102SR84NOYTI0JS    4.629885    4.426914     3.77381         4.4   \n",
       "\n",
       "ProductId              B00GFBWWWC  B00GP184WO  B00I073WLE  B00IALDHDI  \n",
       "UserId                                                                 \n",
       "A00120381FL204MYH7G3B    4.593674    4.357143    4.494135     4.06701  \n",
       "A00275441WYR3489IKNAB    4.593674    4.357143    4.494135     4.06701  \n",
       "A00328401T70RFN4P1IT6    4.593674    4.357143    4.494135     4.06701  \n",
       "A00454102SR84NOYTI0JS    4.593674    4.357143    4.494135     4.06701  \n",
       "\n",
       "[4 rows x 174 columns]"
      ]
     },
     "execution_count": 12,
     "metadata": {},
     "output_type": "execute_result"
    }
   ],
   "source": [
    "# Filling the NaN values with mean of the column\n",
    "user_item_matrix = user_item_matrix_raw.fillna(user_item_matrix_raw.mean())\n",
    "user_item_matrix.head(4)"
   ]
  },
  {
   "cell_type": "markdown",
   "metadata": {},
   "source": [
    "We will be following two ways to build the recommender system - Directly using the ratings given in the dataset, and Assuming that the ratings given can be broken down into chunks of interpretable sections. An example would be - \n",
    "Rating = Baseline Rating + User-Product-Interaction.\n",
    "\n",
    "Have you ever noticed, users usually tend to give an average rating of 3 to almost every product they buy. Visualize this by imagining viewing a product with rating 1 - Would you call it as being a bit good, or, maybe the product is very bad, hence it has a __bad__ rating!\n",
    "\n",
    "This baseline rating is a term which can be removed from each and every rating, to accurately understand the relationship between user and the product.\n",
    "\n",
    "Along with these two strategies, we would also be using two metrics - Similarity index and Euclidean distance."
   ]
  },
  {
   "cell_type": "code",
   "execution_count": 13,
   "metadata": {},
   "outputs": [],
   "source": [
    "user_item_matrix_rating = user_item_matrix.apply(lambda row: row - 3)"
   ]
  },
  {
   "cell_type": "markdown",
   "metadata": {},
   "source": [
    "## User - User CF"
   ]
  },
  {
   "cell_type": "code",
   "execution_count": 23,
   "metadata": {},
   "outputs": [
    {
     "name": "stdout",
     "output_type": "stream",
     "text": [
      "Model built in 35.88530778884888 seconds\n"
     ]
    }
   ],
   "source": [
    "recommender = Recommender().fit(user_item_matrix)"
   ]
  },
  {
   "cell_type": "code",
   "execution_count": 25,
   "metadata": {},
   "outputs": [
    {
     "name": "stdout",
     "output_type": "stream",
     "text": [
      "Model built in 28.24148416519165 seconds\n"
     ]
    }
   ],
   "source": [
    "recommender_rating = Recommender().fit(user_item_matrix_rating)"
   ]
  },
  {
   "cell_type": "markdown",
   "metadata": {},
   "source": [
    "One very important observation is that using a Ball-Tree structure reduces training time significantly. Using a brute for KNN would take a hell lot more time for training these many samples.\n",
    "\n",
    "The brute force KNN that I was using previously took 7 minutes to train on just 3200 user ids, when it was run parallely on 6 CPU cores with a batch size of 100. While this version, using KD Tree, trains on a sample of 100,000 in just ~30 seconds."
   ]
  },
  {
   "cell_type": "code",
   "execution_count": 20,
   "metadata": {},
   "outputs": [],
   "source": [
    "X_test = data_test.iloc[:, :-1]\n",
    "y_test = data_test.iloc[:, -1]"
   ]
  },
  {
   "cell_type": "code",
   "execution_count": 26,
   "metadata": {},
   "outputs": [
    {
     "name": "stderr",
     "output_type": "stream",
     "text": [
      "Predicting Ratings: 100%|██████████| 29676/29676 [01:55<00:00, 256.69it/s]\n",
      "Predicting Ratings: 100%|██████████| 29676/29676 [01:59<00:00, 247.94it/s]"
     ]
    },
    {
     "name": "stdout",
     "output_type": "stream",
     "text": [
      "RMSE using first perscpective: 4.358643823552272\n",
      "RMSE using second perspective: 1.7268484766013246\n"
     ]
    },
    {
     "name": "stderr",
     "output_type": "stream",
     "text": [
      "\n"
     ]
    }
   ],
   "source": [
    "# Predicting using the two recommender models for normal as well as overhead rating \n",
    "y_pred = recommender.predict(X_test)\n",
    "y_pred_rating = recommender_rating.predict(X_test)\n",
    "\n",
    "y_pred_rating += 3\n",
    "\n",
    "rmse = np.sqrt(mean_squared_error(y_test, y_pred))\n",
    "rmse_rating = np.sqrt(mean_squared_error(y_test, y_pred_rating))\n",
    "\n",
    "print('RMSE using first perscpective: {}\\nRMSE using second perspective: {}'.format(rmse, rmse_rating))"
   ]
  },
  {
   "cell_type": "markdown",
   "metadata": {},
   "source": [
    "Observation - The root mean square in predictions drastically reduce with the hypothesis we assumed.\n",
    "\n",
    "The predictions are also done in a very impressive time - ~2 minutes for ~30000 user ids"
   ]
  },
  {
   "cell_type": "markdown",
   "metadata": {},
   "source": [
    "Using the rating that is devoid of baseline rating does seem to give better results than the plain simple system. There are a very important deduction from these experimental results - \n",
    "\n",
    "- It is better to predict the overhead rating (by ignoring the baseline rating), and then add the baseline rating. This means that hypothesis: \"People usually tend to rate some product at a baseline level (3 here) unless the product experience with the user is very bad\" is a better start off point for a Recommender system."
   ]
  },
  {
   "cell_type": "markdown",
   "metadata": {},
   "source": [
    "The second perspective is definitely better in producing results. But how can it be improved? Can there be a third segment in the rating? Yes, definitely!\n",
    "\n",
    "Intuition - Have you experienced yourself rating drivers of a particular application (Uber, in my case) more generously/harshly day by day? This is the third aspect in rating - a general user experience with the application. In the context of movies, you can imagine this as you being a harsher critic day by day. This kind of interaction (user - service) can be modelled using the timestamp provided. We will look at such interactions closely in later part of this notebook.\n",
    "\n",
    "In general - \n",
    "$$Rating = Baseline Rating + User Service Interaction Rating + User Product Interaction Rating$$"
   ]
  },
  {
   "cell_type": "markdown",
   "metadata": {},
   "source": [
    "## Item - Item CF"
   ]
  },
  {
   "cell_type": "code",
   "execution_count": 27,
   "metadata": {},
   "outputs": [
    {
     "name": "stdout",
     "output_type": "stream",
     "text": [
      "Model built in 0.29822683334350586 seconds\n"
     ]
    }
   ],
   "source": [
    "recommender_item = Recommender(strategy = 'item').fit(user_item_matrix)"
   ]
  },
  {
   "cell_type": "code",
   "execution_count": 28,
   "metadata": {},
   "outputs": [
    {
     "name": "stdout",
     "output_type": "stream",
     "text": [
      "Model built in 0.294572114944458 seconds\n"
     ]
    }
   ],
   "source": [
    "recommender_item_rating = Recommender(strategy = 'item').fit(user_item_matrix_rating)"
   ]
  },
  {
   "cell_type": "code",
   "execution_count": 29,
   "metadata": {},
   "outputs": [
    {
     "name": "stderr",
     "output_type": "stream",
     "text": [
      "Predicting Ratings: 100%|██████████| 29676/29676 [11:17<00:00, 43.83it/s]\n",
      "Predicting Ratings: 100%|██████████| 29676/29676 [11:15<00:00, 43.95it/s]"
     ]
    },
    {
     "name": "stdout",
     "output_type": "stream",
     "text": [
      "RMSE using first perscpective: 4.358643823552272\n",
      "RMSE using second perspective: 1.7268484766013246\n"
     ]
    },
    {
     "name": "stderr",
     "output_type": "stream",
     "text": [
      "\n"
     ]
    }
   ],
   "source": [
    "# Predicting using the two recommender models for normal as well as overhead rating \n",
    "y_item_pred = recommender_item.predict(X_test)\n",
    "y_item_pred_rating = recommender_item_rating.predict(X_test)\n",
    "\n",
    "y_item_pred_rating += 3\n",
    "\n",
    "rmse = np.sqrt(mean_squared_error(y_test, y_item_pred))\n",
    "rmse_rating = np.sqrt(mean_squared_error(y_test, y_item_pred_rating))\n",
    "\n",
    "print('RMSE using first perscpective: {}\\nRMSE using second perspective: {}'.format(rmse, rmse_rating))"
   ]
  },
  {
   "cell_type": "markdown",
   "metadata": {},
   "source": [
    "Just as the observation in User - User based CF, we can see that the RMSE figures drop when we assume the baseline rating hypothesis. However, one contrasting feature that can be found here is that there is some difference between Cosine and Euclidean metric."
   ]
  },
  {
   "cell_type": "markdown",
   "metadata": {},
   "source": [
    "Now that we have built models and seen how they perform in various scenarios, let's see how they recommend stuff!"
   ]
  },
  {
   "cell_type": "markdown",
   "metadata": {},
   "source": [
    "## Recommendations\n",
    "\n",
    "This is the important and the most interesting part of building Recommender Systems - recommending products for the users. Let's see how the four models above perform!\n",
    "\n",
    "We will be using the User ID - ABQAIIBTTEKVM, and Product ID - B004OHQR1Q in order to compare the results."
   ]
  },
  {
   "cell_type": "markdown",
   "metadata": {},
   "source": [
    "### User - User CF Recommendations"
   ]
  },
  {
   "cell_type": "code",
   "execution_count": 30,
   "metadata": {},
   "outputs": [
    {
     "data": {
      "text/html": [
       "<div>\n",
       "<style scoped>\n",
       "    .dataframe tbody tr th:only-of-type {\n",
       "        vertical-align: middle;\n",
       "    }\n",
       "\n",
       "    .dataframe tbody tr th {\n",
       "        vertical-align: top;\n",
       "    }\n",
       "\n",
       "    .dataframe thead th {\n",
       "        text-align: right;\n",
       "    }\n",
       "</style>\n",
       "<table border=\"1\" class=\"dataframe\">\n",
       "  <thead>\n",
       "    <tr style=\"text-align: right;\">\n",
       "      <th></th>\n",
       "      <th>ProductId</th>\n",
       "    </tr>\n",
       "  </thead>\n",
       "  <tbody>\n",
       "    <tr>\n",
       "      <td>1371</td>\n",
       "      <td>B008U1Q4DI</td>\n",
       "    </tr>\n",
       "    <tr>\n",
       "      <td>1327</td>\n",
       "      <td>B004OHQR1Q</td>\n",
       "    </tr>\n",
       "    <tr>\n",
       "      <td>458</td>\n",
       "      <td>B004TSFBNK</td>\n",
       "    </tr>\n",
       "    <tr>\n",
       "      <td>1516</td>\n",
       "      <td>B005UBN5AQ</td>\n",
       "    </tr>\n",
       "    <tr>\n",
       "      <td>732</td>\n",
       "      <td>B000ODNSR0</td>\n",
       "    </tr>\n",
       "    <tr>\n",
       "      <td>1002</td>\n",
       "      <td>B006IBM21K</td>\n",
       "    </tr>\n",
       "    <tr>\n",
       "      <td>1185</td>\n",
       "      <td>B007Q0WW0S</td>\n",
       "    </tr>\n",
       "    <tr>\n",
       "      <td>1485</td>\n",
       "      <td>B003UH0528</td>\n",
       "    </tr>\n",
       "    <tr>\n",
       "      <td>1566</td>\n",
       "      <td>B00004TUBL</td>\n",
       "    </tr>\n",
       "    <tr>\n",
       "      <td>514</td>\n",
       "      <td>B00CNOUZE2</td>\n",
       "    </tr>\n",
       "  </tbody>\n",
       "</table>\n",
       "</div>"
      ],
      "text/plain": [
       "       ProductId\n",
       "1371  B008U1Q4DI\n",
       "1327  B004OHQR1Q\n",
       "458   B004TSFBNK\n",
       "1516  B005UBN5AQ\n",
       "732   B000ODNSR0\n",
       "1002  B006IBM21K\n",
       "1185  B007Q0WW0S\n",
       "1485  B003UH0528\n",
       "1566  B00004TUBL\n",
       "514   B00CNOUZE2"
      ]
     },
     "execution_count": 30,
     "metadata": {},
     "output_type": "execute_result"
    }
   ],
   "source": [
    "recommender.recommend_items('ABQAIIBTTEKVM')"
   ]
  },
  {
   "cell_type": "code",
   "execution_count": 31,
   "metadata": {},
   "outputs": [
    {
     "data": {
      "text/html": [
       "<div>\n",
       "<style scoped>\n",
       "    .dataframe tbody tr th:only-of-type {\n",
       "        vertical-align: middle;\n",
       "    }\n",
       "\n",
       "    .dataframe tbody tr th {\n",
       "        vertical-align: top;\n",
       "    }\n",
       "\n",
       "    .dataframe thead th {\n",
       "        text-align: right;\n",
       "    }\n",
       "</style>\n",
       "<table border=\"1\" class=\"dataframe\">\n",
       "  <thead>\n",
       "    <tr style=\"text-align: right;\">\n",
       "      <th></th>\n",
       "      <th>ProductId</th>\n",
       "    </tr>\n",
       "  </thead>\n",
       "  <tbody>\n",
       "    <tr>\n",
       "      <td>1371</td>\n",
       "      <td>B008U1Q4DI</td>\n",
       "    </tr>\n",
       "    <tr>\n",
       "      <td>1327</td>\n",
       "      <td>B004OHQR1Q</td>\n",
       "    </tr>\n",
       "    <tr>\n",
       "      <td>458</td>\n",
       "      <td>B004TSFBNK</td>\n",
       "    </tr>\n",
       "    <tr>\n",
       "      <td>1516</td>\n",
       "      <td>B005UBN5AQ</td>\n",
       "    </tr>\n",
       "    <tr>\n",
       "      <td>732</td>\n",
       "      <td>B000ODNSR0</td>\n",
       "    </tr>\n",
       "    <tr>\n",
       "      <td>1002</td>\n",
       "      <td>B006IBM21K</td>\n",
       "    </tr>\n",
       "    <tr>\n",
       "      <td>1185</td>\n",
       "      <td>B007Q0WW0S</td>\n",
       "    </tr>\n",
       "    <tr>\n",
       "      <td>1485</td>\n",
       "      <td>B003UH0528</td>\n",
       "    </tr>\n",
       "    <tr>\n",
       "      <td>1566</td>\n",
       "      <td>B00004TUBL</td>\n",
       "    </tr>\n",
       "    <tr>\n",
       "      <td>514</td>\n",
       "      <td>B00CNOUZE2</td>\n",
       "    </tr>\n",
       "  </tbody>\n",
       "</table>\n",
       "</div>"
      ],
      "text/plain": [
       "       ProductId\n",
       "1371  B008U1Q4DI\n",
       "1327  B004OHQR1Q\n",
       "458   B004TSFBNK\n",
       "1516  B005UBN5AQ\n",
       "732   B000ODNSR0\n",
       "1002  B006IBM21K\n",
       "1185  B007Q0WW0S\n",
       "1485  B003UH0528\n",
       "1566  B00004TUBL\n",
       "514   B00CNOUZE2"
      ]
     },
     "execution_count": 31,
     "metadata": {},
     "output_type": "execute_result"
    }
   ],
   "source": [
    "recommender_rating.recommend_items('ABQAIIBTTEKVM')"
   ]
  },
  {
   "cell_type": "markdown",
   "metadata": {},
   "source": [
    "### Item - Item CF Recommendations"
   ]
  },
  {
   "cell_type": "code",
   "execution_count": 32,
   "metadata": {},
   "outputs": [
    {
     "data": {
      "text/html": [
       "<div>\n",
       "<style scoped>\n",
       "    .dataframe tbody tr th:only-of-type {\n",
       "        vertical-align: middle;\n",
       "    }\n",
       "\n",
       "    .dataframe tbody tr th {\n",
       "        vertical-align: top;\n",
       "    }\n",
       "\n",
       "    .dataframe thead th {\n",
       "        text-align: right;\n",
       "    }\n",
       "</style>\n",
       "<table border=\"1\" class=\"dataframe\">\n",
       "  <thead>\n",
       "    <tr style=\"text-align: right;\">\n",
       "      <th></th>\n",
       "      <th>ProductId</th>\n",
       "    </tr>\n",
       "  </thead>\n",
       "  <tbody>\n",
       "    <tr>\n",
       "      <td>1</td>\n",
       "      <td>B002TPQPEE</td>\n",
       "    </tr>\n",
       "    <tr>\n",
       "      <td>2</td>\n",
       "      <td>B008O4YM4Y</td>\n",
       "    </tr>\n",
       "    <tr>\n",
       "      <td>3</td>\n",
       "      <td>B00I073WLE</td>\n",
       "    </tr>\n",
       "    <tr>\n",
       "      <td>4</td>\n",
       "      <td>B005Y6F4WO</td>\n",
       "    </tr>\n",
       "    <tr>\n",
       "      <td>5</td>\n",
       "      <td>B00D6EDGYE</td>\n",
       "    </tr>\n",
       "    <tr>\n",
       "      <td>6</td>\n",
       "      <td>B000OQ2DL4</td>\n",
       "    </tr>\n",
       "    <tr>\n",
       "      <td>7</td>\n",
       "      <td>B0002Z8QG8</td>\n",
       "    </tr>\n",
       "    <tr>\n",
       "      <td>8</td>\n",
       "      <td>B001U9M2EW</td>\n",
       "    </tr>\n",
       "    <tr>\n",
       "      <td>9</td>\n",
       "      <td>B0002Z8HAI</td>\n",
       "    </tr>\n",
       "  </tbody>\n",
       "</table>\n",
       "</div>"
      ],
      "text/plain": [
       "    ProductId\n",
       "1  B002TPQPEE\n",
       "2  B008O4YM4Y\n",
       "3  B00I073WLE\n",
       "4  B005Y6F4WO\n",
       "5  B00D6EDGYE\n",
       "6  B000OQ2DL4\n",
       "7  B0002Z8QG8\n",
       "8  B001U9M2EW\n",
       "9  B0002Z8HAI"
      ]
     },
     "execution_count": 32,
     "metadata": {},
     "output_type": "execute_result"
    }
   ],
   "source": [
    "recommender_item.recommend_items('B004OHQR1Q')"
   ]
  },
  {
   "cell_type": "code",
   "execution_count": 34,
   "metadata": {},
   "outputs": [
    {
     "data": {
      "text/html": [
       "<div>\n",
       "<style scoped>\n",
       "    .dataframe tbody tr th:only-of-type {\n",
       "        vertical-align: middle;\n",
       "    }\n",
       "\n",
       "    .dataframe tbody tr th {\n",
       "        vertical-align: top;\n",
       "    }\n",
       "\n",
       "    .dataframe thead th {\n",
       "        text-align: right;\n",
       "    }\n",
       "</style>\n",
       "<table border=\"1\" class=\"dataframe\">\n",
       "  <thead>\n",
       "    <tr style=\"text-align: right;\">\n",
       "      <th></th>\n",
       "      <th>ProductId</th>\n",
       "    </tr>\n",
       "  </thead>\n",
       "  <tbody>\n",
       "    <tr>\n",
       "      <td>1</td>\n",
       "      <td>B002TPQPEE</td>\n",
       "    </tr>\n",
       "    <tr>\n",
       "      <td>2</td>\n",
       "      <td>B008O4YM4Y</td>\n",
       "    </tr>\n",
       "    <tr>\n",
       "      <td>3</td>\n",
       "      <td>B00I073WLE</td>\n",
       "    </tr>\n",
       "    <tr>\n",
       "      <td>4</td>\n",
       "      <td>B005Y6F4WO</td>\n",
       "    </tr>\n",
       "    <tr>\n",
       "      <td>5</td>\n",
       "      <td>B00D6EDGYE</td>\n",
       "    </tr>\n",
       "    <tr>\n",
       "      <td>6</td>\n",
       "      <td>B000OQ2DL4</td>\n",
       "    </tr>\n",
       "    <tr>\n",
       "      <td>7</td>\n",
       "      <td>B0002Z8QG8</td>\n",
       "    </tr>\n",
       "    <tr>\n",
       "      <td>8</td>\n",
       "      <td>B001U9M2EW</td>\n",
       "    </tr>\n",
       "    <tr>\n",
       "      <td>9</td>\n",
       "      <td>B0002Z8HAI</td>\n",
       "    </tr>\n",
       "  </tbody>\n",
       "</table>\n",
       "</div>"
      ],
      "text/plain": [
       "    ProductId\n",
       "1  B002TPQPEE\n",
       "2  B008O4YM4Y\n",
       "3  B00I073WLE\n",
       "4  B005Y6F4WO\n",
       "5  B00D6EDGYE\n",
       "6  B000OQ2DL4\n",
       "7  B0002Z8QG8\n",
       "8  B001U9M2EW\n",
       "9  B0002Z8HAI"
      ]
     },
     "execution_count": 34,
     "metadata": {},
     "output_type": "execute_result"
    }
   ],
   "source": [
    "recommender_item_rating.recommend_items('B004OHQR1Q')"
   ]
  },
  {
   "cell_type": "markdown",
   "metadata": {},
   "source": [
    "#### Explanation of the results.\n",
    "\n",
    "There are two aspects in this explanation - explaining the difference between the RMSE values for the two perspectives, and getting the same set of recommendations inspite of the difference is predicted ratings.\n",
    "\n",
    "1. The reason for observing the difference in RMSE is that a value of 0 is predicted for items which the user has not rated (Item - Item CF) or the similar users who have not rated the item (User - User CF). If we interpret this value of 0 that is predicted, it can be understood that it has two meanings in the two perspectives. In the first perspective, where the ratings are kept between 0 and 5, a rating of 0 means that the user has absolutely disliked the product (on a relative scale). However, in the latter perspective, a rating of 0 implies that user has an average view of the product. If you try to imagine the situation, it would be similar to - first perspective says that a user who has not seen this product will absolutely dislike it, and second perspective says that the user would give it a baseline rating.\n",
    "    Looking at it this way clearly shows that the perspectives are actually similar, if we rate 3 for a product unseen by the user in context.\n",
    "    \n",
    "2. The reason for outputting same recommendations for both the perspective is that - Euclidean distance (used for finding neighbours in KDTree or BallTree) is invariant under a Translation Transformation (deducting the baseline transformation is essentially a translation of the points by 3 units). Hence, the neighbour still remain the same, which leads to the same recommendations being generated [all the time]."
   ]
  },
  {
   "cell_type": "markdown",
   "metadata": {},
   "source": [
    "### Varying statistic for NaN values\n",
    "\n",
    "From the above explanation, it is pretty clear that using a baseline rating for unintroduced User-Item pair is quite beneficial. Hence, instead of using mean as the filler for 'NaN' values, it would be better to use the baseline rating. It would not introduce any unwanted bias.\n",
    "\n",
    "Going forward, I would be using only the second perspective, as it is already established that the two are similar and just differ in ratings they output for unintroduced User-Item pair."
   ]
  },
  {
   "cell_type": "code",
   "execution_count": 35,
   "metadata": {},
   "outputs": [
    {
     "data": {
      "text/html": [
       "<div>\n",
       "<style scoped>\n",
       "    .dataframe tbody tr th:only-of-type {\n",
       "        vertical-align: middle;\n",
       "    }\n",
       "\n",
       "    .dataframe tbody tr th {\n",
       "        vertical-align: top;\n",
       "    }\n",
       "\n",
       "    .dataframe thead th {\n",
       "        text-align: right;\n",
       "    }\n",
       "</style>\n",
       "<table border=\"1\" class=\"dataframe\">\n",
       "  <thead>\n",
       "    <tr style=\"text-align: right;\">\n",
       "      <th>ProductId</th>\n",
       "      <th>B00004TUBL</th>\n",
       "      <th>B0000530ED</th>\n",
       "      <th>B00005O0MZ</th>\n",
       "      <th>B0000632EN</th>\n",
       "      <th>B00006IV2F</th>\n",
       "      <th>B0000AFUTL</th>\n",
       "      <th>B0000CC64W</th>\n",
       "      <th>B0000YUXI0</th>\n",
       "      <th>B0000ZLEFU</th>\n",
       "      <th>B00011QUDE</th>\n",
       "      <th>...</th>\n",
       "      <th>B00C7DYBX0</th>\n",
       "      <th>B00CFRBIC0</th>\n",
       "      <th>B00CNOUZE2</th>\n",
       "      <th>B00D6EDGYE</th>\n",
       "      <th>B00E68O4JU</th>\n",
       "      <th>B00FAEOCP0</th>\n",
       "      <th>B00GFBWWWC</th>\n",
       "      <th>B00GP184WO</th>\n",
       "      <th>B00I073WLE</th>\n",
       "      <th>B00IALDHDI</th>\n",
       "    </tr>\n",
       "    <tr>\n",
       "      <th>UserId</th>\n",
       "      <th></th>\n",
       "      <th></th>\n",
       "      <th></th>\n",
       "      <th></th>\n",
       "      <th></th>\n",
       "      <th></th>\n",
       "      <th></th>\n",
       "      <th></th>\n",
       "      <th></th>\n",
       "      <th></th>\n",
       "      <th></th>\n",
       "      <th></th>\n",
       "      <th></th>\n",
       "      <th></th>\n",
       "      <th></th>\n",
       "      <th></th>\n",
       "      <th></th>\n",
       "      <th></th>\n",
       "      <th></th>\n",
       "      <th></th>\n",
       "      <th></th>\n",
       "    </tr>\n",
       "  </thead>\n",
       "  <tbody>\n",
       "    <tr>\n",
       "      <td>A00120381FL204MYH7G3B</td>\n",
       "      <td>0.0</td>\n",
       "      <td>0.0</td>\n",
       "      <td>0.0</td>\n",
       "      <td>0.0</td>\n",
       "      <td>0.0</td>\n",
       "      <td>0.0</td>\n",
       "      <td>0.0</td>\n",
       "      <td>0.0</td>\n",
       "      <td>0.0</td>\n",
       "      <td>0.0</td>\n",
       "      <td>...</td>\n",
       "      <td>0.0</td>\n",
       "      <td>0.0</td>\n",
       "      <td>0.0</td>\n",
       "      <td>0.0</td>\n",
       "      <td>0.0</td>\n",
       "      <td>0.0</td>\n",
       "      <td>0.0</td>\n",
       "      <td>0.0</td>\n",
       "      <td>0.0</td>\n",
       "      <td>0.0</td>\n",
       "    </tr>\n",
       "    <tr>\n",
       "      <td>A00275441WYR3489IKNAB</td>\n",
       "      <td>0.0</td>\n",
       "      <td>0.0</td>\n",
       "      <td>0.0</td>\n",
       "      <td>0.0</td>\n",
       "      <td>0.0</td>\n",
       "      <td>0.0</td>\n",
       "      <td>0.0</td>\n",
       "      <td>0.0</td>\n",
       "      <td>0.0</td>\n",
       "      <td>0.0</td>\n",
       "      <td>...</td>\n",
       "      <td>0.0</td>\n",
       "      <td>0.0</td>\n",
       "      <td>0.0</td>\n",
       "      <td>0.0</td>\n",
       "      <td>0.0</td>\n",
       "      <td>0.0</td>\n",
       "      <td>0.0</td>\n",
       "      <td>0.0</td>\n",
       "      <td>0.0</td>\n",
       "      <td>0.0</td>\n",
       "    </tr>\n",
       "    <tr>\n",
       "      <td>A00328401T70RFN4P1IT6</td>\n",
       "      <td>0.0</td>\n",
       "      <td>0.0</td>\n",
       "      <td>0.0</td>\n",
       "      <td>0.0</td>\n",
       "      <td>0.0</td>\n",
       "      <td>0.0</td>\n",
       "      <td>0.0</td>\n",
       "      <td>0.0</td>\n",
       "      <td>0.0</td>\n",
       "      <td>0.0</td>\n",
       "      <td>...</td>\n",
       "      <td>0.0</td>\n",
       "      <td>0.0</td>\n",
       "      <td>0.0</td>\n",
       "      <td>0.0</td>\n",
       "      <td>0.0</td>\n",
       "      <td>0.0</td>\n",
       "      <td>0.0</td>\n",
       "      <td>0.0</td>\n",
       "      <td>0.0</td>\n",
       "      <td>0.0</td>\n",
       "    </tr>\n",
       "    <tr>\n",
       "      <td>A00454102SR84NOYTI0JS</td>\n",
       "      <td>0.0</td>\n",
       "      <td>0.0</td>\n",
       "      <td>0.0</td>\n",
       "      <td>0.0</td>\n",
       "      <td>0.0</td>\n",
       "      <td>0.0</td>\n",
       "      <td>0.0</td>\n",
       "      <td>0.0</td>\n",
       "      <td>0.0</td>\n",
       "      <td>0.0</td>\n",
       "      <td>...</td>\n",
       "      <td>0.0</td>\n",
       "      <td>0.0</td>\n",
       "      <td>0.0</td>\n",
       "      <td>0.0</td>\n",
       "      <td>0.0</td>\n",
       "      <td>0.0</td>\n",
       "      <td>0.0</td>\n",
       "      <td>0.0</td>\n",
       "      <td>0.0</td>\n",
       "      <td>0.0</td>\n",
       "    </tr>\n",
       "  </tbody>\n",
       "</table>\n",
       "<p>4 rows × 174 columns</p>\n",
       "</div>"
      ],
      "text/plain": [
       "ProductId              B00004TUBL  B0000530ED  B00005O0MZ  B0000632EN  \\\n",
       "UserId                                                                  \n",
       "A00120381FL204MYH7G3B         0.0         0.0         0.0         0.0   \n",
       "A00275441WYR3489IKNAB         0.0         0.0         0.0         0.0   \n",
       "A00328401T70RFN4P1IT6         0.0         0.0         0.0         0.0   \n",
       "A00454102SR84NOYTI0JS         0.0         0.0         0.0         0.0   \n",
       "\n",
       "ProductId              B00006IV2F  B0000AFUTL  B0000CC64W  B0000YUXI0  \\\n",
       "UserId                                                                  \n",
       "A00120381FL204MYH7G3B         0.0         0.0         0.0         0.0   \n",
       "A00275441WYR3489IKNAB         0.0         0.0         0.0         0.0   \n",
       "A00328401T70RFN4P1IT6         0.0         0.0         0.0         0.0   \n",
       "A00454102SR84NOYTI0JS         0.0         0.0         0.0         0.0   \n",
       "\n",
       "ProductId              B0000ZLEFU  B00011QUDE  ...  B00C7DYBX0  B00CFRBIC0  \\\n",
       "UserId                                         ...                           \n",
       "A00120381FL204MYH7G3B         0.0         0.0  ...         0.0         0.0   \n",
       "A00275441WYR3489IKNAB         0.0         0.0  ...         0.0         0.0   \n",
       "A00328401T70RFN4P1IT6         0.0         0.0  ...         0.0         0.0   \n",
       "A00454102SR84NOYTI0JS         0.0         0.0  ...         0.0         0.0   \n",
       "\n",
       "ProductId              B00CNOUZE2  B00D6EDGYE  B00E68O4JU  B00FAEOCP0  \\\n",
       "UserId                                                                  \n",
       "A00120381FL204MYH7G3B         0.0         0.0         0.0         0.0   \n",
       "A00275441WYR3489IKNAB         0.0         0.0         0.0         0.0   \n",
       "A00328401T70RFN4P1IT6         0.0         0.0         0.0         0.0   \n",
       "A00454102SR84NOYTI0JS         0.0         0.0         0.0         0.0   \n",
       "\n",
       "ProductId              B00GFBWWWC  B00GP184WO  B00I073WLE  B00IALDHDI  \n",
       "UserId                                                                 \n",
       "A00120381FL204MYH7G3B         0.0         0.0         0.0         0.0  \n",
       "A00275441WYR3489IKNAB         0.0         0.0         0.0         0.0  \n",
       "A00328401T70RFN4P1IT6         0.0         0.0         0.0         0.0  \n",
       "A00454102SR84NOYTI0JS         0.0         0.0         0.0         0.0  \n",
       "\n",
       "[4 rows x 174 columns]"
      ]
     },
     "execution_count": 35,
     "metadata": {},
     "output_type": "execute_result"
    }
   ],
   "source": [
    "user_item_matrix_baseline = user_item_matrix_raw.fillna(3) - 3\n",
    "user_item_matrix_baseline.head(4)"
   ]
  },
  {
   "cell_type": "code",
   "execution_count": 36,
   "metadata": {},
   "outputs": [
    {
     "name": "stdout",
     "output_type": "stream",
     "text": [
      "Model built in 41.419435024261475 seconds\n"
     ]
    }
   ],
   "source": [
    "recommender_baseline = Recommender().fit(user_item_matrix_baseline)"
   ]
  },
  {
   "cell_type": "code",
   "execution_count": 37,
   "metadata": {},
   "outputs": [
    {
     "name": "stderr",
     "output_type": "stream",
     "text": [
      "Predicting Ratings: 100%|██████████| 29676/29676 [01:52<00:00, 264.82it/s]"
     ]
    },
    {
     "name": "stdout",
     "output_type": "stream",
     "text": [
      "RMSE using User-User CF: 1.7268484766013246\n"
     ]
    },
    {
     "name": "stderr",
     "output_type": "stream",
     "text": [
      "\n"
     ]
    }
   ],
   "source": [
    "y_pred_baseline = recommender_baseline.predict(X_test)\n",
    "y_pred_baseline += 3\n",
    "\n",
    "rmse_baseline = np.sqrt(mean_squared_error(y_test, y_pred_baseline))\n",
    "print('RMSE using User-User CF: {}'.format(rmse_baseline))"
   ]
  },
  {
   "cell_type": "code",
   "execution_count": 38,
   "metadata": {},
   "outputs": [
    {
     "name": "stdout",
     "output_type": "stream",
     "text": [
      "Model built in 0.27401185035705566 seconds\n"
     ]
    }
   ],
   "source": [
    "recommender_item_baseline = Recommender(strategy = 'item').fit(user_item_matrix_baseline)"
   ]
  },
  {
   "cell_type": "code",
   "execution_count": 41,
   "metadata": {},
   "outputs": [
    {
     "name": "stderr",
     "output_type": "stream",
     "text": [
      "\n",
      "\n",
      "Predicting Ratings:   0%|          | 0/29676 [00:00<?, ?it/s]\u001b[A\u001b[A\n",
      "\n",
      "Predicting Ratings:   0%|          | 3/29676 [00:00<16:56, 29.19it/s]\u001b[A\u001b[A\n",
      "\n",
      "Predicting Ratings:   0%|          | 7/29676 [00:00<16:33, 29.85it/s]\u001b[A\u001b[A\n",
      "\n",
      "Predicting Ratings:   0%|          | 11/29676 [00:00<16:06, 30.69it/s]\u001b[A\u001b[A\n",
      "\n",
      "Predicting Ratings:   0%|          | 15/29676 [00:00<15:48, 31.26it/s]\u001b[A\u001b[A\n",
      "\n",
      "Predicting Ratings:   0%|          | 19/29676 [00:00<15:34, 31.74it/s]\u001b[A\u001b[A\n",
      "\n",
      "Predicting Ratings:   0%|          | 23/29676 [00:00<15:29, 31.89it/s]\u001b[A\u001b[A\n",
      "\n",
      "Predicting Ratings:   0%|          | 27/29676 [00:00<15:38, 31.59it/s]\u001b[A\u001b[A\n",
      "\n",
      "Predicting Ratings:   0%|          | 31/29676 [00:00<15:47, 31.29it/s]\u001b[A\u001b[A\n",
      "\n",
      "Predicting Ratings:   0%|          | 35/29676 [00:01<15:44, 31.38it/s]\u001b[A\u001b[A\n",
      "\n",
      "Predicting Ratings:   0%|          | 39/29676 [00:01<15:34, 31.70it/s]\u001b[A\u001b[A\n",
      "\n",
      "Predicting Ratings:   0%|          | 43/29676 [00:01<15:28, 31.91it/s]\u001b[A\u001b[A\n",
      "\n",
      "Predicting Ratings:   0%|          | 47/29676 [00:01<15:36, 31.65it/s]\u001b[A\u001b[A\n",
      "\n",
      "Predicting Ratings:   0%|          | 51/29676 [00:01<15:29, 31.87it/s]\u001b[A\u001b[A\n",
      "\n",
      "Predicting Ratings:   0%|          | 55/29676 [00:01<15:31, 31.80it/s]\u001b[A\u001b[A\n",
      "\n",
      "Predicting Ratings:   0%|          | 59/29676 [00:01<15:28, 31.89it/s]\u001b[A\u001b[A\n",
      "\n",
      "Predicting Ratings:   0%|          | 63/29676 [00:02<15:51, 31.11it/s]\u001b[A\u001b[A\n"
     ]
    },
    {
     "ename": "KeyboardInterrupt",
     "evalue": "",
     "output_type": "error",
     "traceback": [
      "\u001b[0;31m---------------------------------------------------------------------------\u001b[0m",
      "\u001b[0;31mKeyboardInterrupt\u001b[0m                         Traceback (most recent call last)",
      "\u001b[0;32m<ipython-input-41-4cd41e6d98c0>\u001b[0m in \u001b[0;36m<module>\u001b[0;34m\u001b[0m\n\u001b[0;32m----> 1\u001b[0;31m \u001b[0my_pred_item_baseline\u001b[0m \u001b[0;34m=\u001b[0m \u001b[0mrecommender_item_baseline\u001b[0m\u001b[0;34m.\u001b[0m\u001b[0mpredict\u001b[0m\u001b[0;34m(\u001b[0m\u001b[0mX_test\u001b[0m\u001b[0;34m)\u001b[0m\u001b[0;34m\u001b[0m\u001b[0;34m\u001b[0m\u001b[0m\n\u001b[0m\u001b[1;32m      2\u001b[0m \u001b[0my_pred_item_baseline\u001b[0m \u001b[0;34m+=\u001b[0m \u001b[0;36m3\u001b[0m\u001b[0;34m\u001b[0m\u001b[0;34m\u001b[0m\u001b[0m\n\u001b[1;32m      3\u001b[0m \u001b[0;34m\u001b[0m\u001b[0m\n\u001b[1;32m      4\u001b[0m \u001b[0mrmse_item_baseline\u001b[0m \u001b[0;34m=\u001b[0m \u001b[0mnp\u001b[0m\u001b[0;34m.\u001b[0m\u001b[0msqrt\u001b[0m\u001b[0;34m(\u001b[0m\u001b[0mmean_squared_error\u001b[0m\u001b[0;34m(\u001b[0m\u001b[0my_test\u001b[0m\u001b[0;34m,\u001b[0m \u001b[0my_pred_baseline\u001b[0m\u001b[0;34m)\u001b[0m\u001b[0;34m)\u001b[0m\u001b[0;34m\u001b[0m\u001b[0;34m\u001b[0m\u001b[0m\n\u001b[1;32m      5\u001b[0m \u001b[0mprint\u001b[0m\u001b[0;34m(\u001b[0m\u001b[0;34m'RMSE using Item-Item CF: {}'\u001b[0m\u001b[0;34m.\u001b[0m\u001b[0mformat\u001b[0m\u001b[0;34m(\u001b[0m\u001b[0mrmse_item_baseline\u001b[0m\u001b[0;34m)\u001b[0m\u001b[0;34m)\u001b[0m\u001b[0;34m\u001b[0m\u001b[0;34m\u001b[0m\u001b[0m\n",
      "\u001b[0;32m<ipython-input-22-63696d723325>\u001b[0m in \u001b[0;36mpredict\u001b[0;34m(self, X_test)\u001b[0m\n\u001b[1;32m     72\u001b[0m \u001b[0;34m\u001b[0m\u001b[0m\n\u001b[1;32m     73\u001b[0m                 \u001b[0mitem_attributes\u001b[0m \u001b[0;34m=\u001b[0m \u001b[0mself\u001b[0m\u001b[0;34m.\u001b[0m\u001b[0mitem_user_matrix\u001b[0m\u001b[0;34m.\u001b[0m\u001b[0mloc\u001b[0m\u001b[0;34m[\u001b[0m\u001b[0mtarget_product\u001b[0m\u001b[0;34m]\u001b[0m\u001b[0;34m\u001b[0m\u001b[0;34m\u001b[0m\u001b[0m\n\u001b[0;32m---> 74\u001b[0;31m                 \u001b[0m_\u001b[0m\u001b[0;34m,\u001b[0m \u001b[0mneighbour_indices\u001b[0m \u001b[0;34m=\u001b[0m \u001b[0mself\u001b[0m\u001b[0;34m.\u001b[0m\u001b[0mitem_tree\u001b[0m\u001b[0;34m.\u001b[0m\u001b[0mquery\u001b[0m\u001b[0;34m(\u001b[0m\u001b[0mitem_attributes\u001b[0m\u001b[0;34m.\u001b[0m\u001b[0mvalues\u001b[0m\u001b[0;34m.\u001b[0m\u001b[0mreshape\u001b[0m\u001b[0;34m(\u001b[0m\u001b[0;36m1\u001b[0m\u001b[0;34m,\u001b[0m \u001b[0;34m-\u001b[0m\u001b[0;36m1\u001b[0m\u001b[0;34m)\u001b[0m\u001b[0;34m,\u001b[0m \u001b[0mk\u001b[0m \u001b[0;34m=\u001b[0m \u001b[0mself\u001b[0m\u001b[0;34m.\u001b[0m\u001b[0mnum_neighbours\u001b[0m\u001b[0;34m)\u001b[0m\u001b[0;34m\u001b[0m\u001b[0;34m\u001b[0m\u001b[0m\n\u001b[0m\u001b[1;32m     75\u001b[0m \u001b[0;34m\u001b[0m\u001b[0m\n\u001b[1;32m     76\u001b[0m                 \u001b[0mrating\u001b[0m \u001b[0;34m=\u001b[0m \u001b[0;36m0\u001b[0m\u001b[0;34m\u001b[0m\u001b[0;34m\u001b[0m\u001b[0m\n",
      "\u001b[0;31mKeyboardInterrupt\u001b[0m: "
     ]
    }
   ],
   "source": [
    "y_pred_item_baseline = recommender_item_baseline.predict(X_test)\n",
    "y_pred_item_baseline += 3\n",
    "\n",
    "rmse_item_baseline = np.sqrt(mean_squared_error(y_test, y_pred_baseline))\n",
    "print('RMSE using Item-Item CF: {}'.format(rmse_item_baseline))"
   ]
  },
  {
   "cell_type": "markdown",
   "metadata": {},
   "source": [
    "The observation is that RMSE value doesn't change! Using the baseline rating is much more logical than using the mean value. More strategies for dealing with missing values would be dealt with while discussing Latent Factor Methods."
   ]
  },
  {
   "cell_type": "markdown",
   "metadata": {},
   "source": [
    "## Model based Collaborative Filtering"
   ]
  },
  {
   "cell_type": "markdown",
   "metadata": {},
   "source": [
    "The most prominent type of model based collaborative filtering is Latent Matrix Factorization. Usually SVD is used to factorize the user-item matrix into two matrices of user-embeddings and embeddings-item.\n",
    "\n",
    "But what do embeddings mean? Well these are latent features that are obtained after factorization. For a User-Movie dataset, you can assume embbedings to be - a. How sci-fi the movie is? b. how recent is the movie? etc.\n",
    "\n",
    "These are not the actual factors that are generated, infact no one knows the interpretation of the embeddings - precisely why the word Latent is used.\n",
    "\n",
    "I will be using the Surprise library in order to implement the SVD to obtain the Latent Factor Matrices."
   ]
  },
  {
   "cell_type": "code",
   "execution_count": 42,
   "metadata": {},
   "outputs": [],
   "source": [
    "class ModelRecommender:\n",
    "    def __init__(self, strategy = 'SVD', latent_factors = 5, num_epochs = 10, reg_param = 0.01):\n",
    "        self.strategy = strategy\n",
    "        self.latent_factors = latent_factors = 5\n",
    "        self.num_epochs = 10\n",
    "        self.reg_param = reg_param\n",
    "        self.learning_rate = 0.0005\n",
    "        \n",
    "    def fit(self, matrix):\n",
    "        m, n = matrix.shape\n",
    "        self.P = pd.DataFrame(np.random.rand(m, self.latent_factors), index = matrix.index) # Users\n",
    "        self.Q = pd.DataFrame(np.random.rand(n, self.latent_factors), index = matrix.columns) # Products\n",
    "        \n",
    "        users = list(matrix.index)\n",
    "        products = list(matrix.columns)\n",
    "\n",
    "        for epoch in tqdm(range(self.num_epochs), desc = 'Epoch'):\n",
    "            for user, product in zip(users, products):\n",
    "                error = matrix.loc[user, product] - self.predictions(self.P.loc[user].values, self.Q.loc[product].values)\n",
    "                self.P.loc[user] += self.learning_rate * (error * self.Q.loc[product].values - self.reg_param * self.P.loc[user].values)\n",
    "                self.Q.loc[product] += self.learning_rate * (error * self.P.loc[user].values - self.reg_param * self.Q.loc[product].values)\n",
    "                \n",
    "    def predictions(self, P, Q):\n",
    "        return np.dot(P, Q.T)\n",
    "    \n",
    "    def predict(self, X_test):\n",
    "        y_pred = pd.Series(index = X_test.index)\n",
    "        \n",
    "        for index, row in X_test.iterrows():\n",
    "            user_id = row['UserId']\n",
    "            product_id = row['ProductId']\n",
    "            if user_id not in self.P.index:\n",
    "                y_pred.loc[index] = 0\n",
    "                continue\n",
    "            if product_id not in self.Q.index:\n",
    "                y_pred.loc[index] = 0\n",
    "                continue\n",
    "            pred = self.predictions(self.P.loc[user_id].values, self.Q.loc[product_id].values)\n",
    "            y_pred.loc[index] = pred\n",
    "        \n",
    "        return y_pred.values\n",
    "    \n",
    "    def recommend(self, user_id, num_recommendations = 10):\n",
    "        recommendations = pd.DataFrame(columns = ['ProductId', 'Recommendability'])\n",
    "        \n",
    "        for product_id in self.Q.index:\n",
    "            recommendability = self.predictions(self.P.loc[user_id].values, self.Q.loc[product_id].values)\n",
    "            recommendations = recommendations.append({'ProductId': product_id, 'Recommendability': recommendability}, ignore_index = True)\n",
    "            \n",
    "        recommendations.sort_values(by = 'Recommendability', ascending = False, inplace = True)\n",
    "        \n",
    "        max_recommendations = min(num_recommendations, self.Q.shape[0])\n",
    "        return recommendations.iloc[:max_recommendations, 0]"
   ]
  },
  {
   "cell_type": "code",
   "execution_count": 43,
   "metadata": {},
   "outputs": [
    {
     "data": {
      "text/html": [
       "<div>\n",
       "<style scoped>\n",
       "    .dataframe tbody tr th:only-of-type {\n",
       "        vertical-align: middle;\n",
       "    }\n",
       "\n",
       "    .dataframe tbody tr th {\n",
       "        vertical-align: top;\n",
       "    }\n",
       "\n",
       "    .dataframe thead th {\n",
       "        text-align: right;\n",
       "    }\n",
       "</style>\n",
       "<table border=\"1\" class=\"dataframe\">\n",
       "  <thead>\n",
       "    <tr style=\"text-align: right;\">\n",
       "      <th>ProductId</th>\n",
       "      <th>B00004TUBL</th>\n",
       "      <th>B0000530ED</th>\n",
       "      <th>B00005O0MZ</th>\n",
       "      <th>B0000632EN</th>\n",
       "      <th>B00006IV2F</th>\n",
       "      <th>B0000AFUTL</th>\n",
       "      <th>B0000CC64W</th>\n",
       "      <th>B0000YUXI0</th>\n",
       "      <th>B0000ZLEFU</th>\n",
       "      <th>B00011QUDE</th>\n",
       "      <th>...</th>\n",
       "      <th>B00C7DYBX0</th>\n",
       "      <th>B00CFRBIC0</th>\n",
       "      <th>B00CNOUZE2</th>\n",
       "      <th>B00D6EDGYE</th>\n",
       "      <th>B00E68O4JU</th>\n",
       "      <th>B00FAEOCP0</th>\n",
       "      <th>B00GFBWWWC</th>\n",
       "      <th>B00GP184WO</th>\n",
       "      <th>B00I073WLE</th>\n",
       "      <th>B00IALDHDI</th>\n",
       "    </tr>\n",
       "    <tr>\n",
       "      <th>UserId</th>\n",
       "      <th></th>\n",
       "      <th></th>\n",
       "      <th></th>\n",
       "      <th></th>\n",
       "      <th></th>\n",
       "      <th></th>\n",
       "      <th></th>\n",
       "      <th></th>\n",
       "      <th></th>\n",
       "      <th></th>\n",
       "      <th></th>\n",
       "      <th></th>\n",
       "      <th></th>\n",
       "      <th></th>\n",
       "      <th></th>\n",
       "      <th></th>\n",
       "      <th></th>\n",
       "      <th></th>\n",
       "      <th></th>\n",
       "      <th></th>\n",
       "      <th></th>\n",
       "    </tr>\n",
       "  </thead>\n",
       "  <tbody>\n",
       "    <tr>\n",
       "      <td>A00120381FL204MYH7G3B</td>\n",
       "      <td>3.0</td>\n",
       "      <td>3.0</td>\n",
       "      <td>3.0</td>\n",
       "      <td>3.0</td>\n",
       "      <td>3.0</td>\n",
       "      <td>3.0</td>\n",
       "      <td>3.0</td>\n",
       "      <td>3.0</td>\n",
       "      <td>3.0</td>\n",
       "      <td>3.0</td>\n",
       "      <td>...</td>\n",
       "      <td>3.0</td>\n",
       "      <td>3.0</td>\n",
       "      <td>3.0</td>\n",
       "      <td>3.0</td>\n",
       "      <td>3.0</td>\n",
       "      <td>3.0</td>\n",
       "      <td>3.0</td>\n",
       "      <td>3.0</td>\n",
       "      <td>3.0</td>\n",
       "      <td>3.0</td>\n",
       "    </tr>\n",
       "    <tr>\n",
       "      <td>A00275441WYR3489IKNAB</td>\n",
       "      <td>3.0</td>\n",
       "      <td>3.0</td>\n",
       "      <td>3.0</td>\n",
       "      <td>3.0</td>\n",
       "      <td>3.0</td>\n",
       "      <td>3.0</td>\n",
       "      <td>3.0</td>\n",
       "      <td>3.0</td>\n",
       "      <td>3.0</td>\n",
       "      <td>3.0</td>\n",
       "      <td>...</td>\n",
       "      <td>3.0</td>\n",
       "      <td>3.0</td>\n",
       "      <td>3.0</td>\n",
       "      <td>3.0</td>\n",
       "      <td>3.0</td>\n",
       "      <td>3.0</td>\n",
       "      <td>3.0</td>\n",
       "      <td>3.0</td>\n",
       "      <td>3.0</td>\n",
       "      <td>3.0</td>\n",
       "    </tr>\n",
       "    <tr>\n",
       "      <td>A00328401T70RFN4P1IT6</td>\n",
       "      <td>3.0</td>\n",
       "      <td>3.0</td>\n",
       "      <td>3.0</td>\n",
       "      <td>3.0</td>\n",
       "      <td>3.0</td>\n",
       "      <td>3.0</td>\n",
       "      <td>3.0</td>\n",
       "      <td>3.0</td>\n",
       "      <td>3.0</td>\n",
       "      <td>3.0</td>\n",
       "      <td>...</td>\n",
       "      <td>3.0</td>\n",
       "      <td>3.0</td>\n",
       "      <td>3.0</td>\n",
       "      <td>3.0</td>\n",
       "      <td>3.0</td>\n",
       "      <td>3.0</td>\n",
       "      <td>3.0</td>\n",
       "      <td>3.0</td>\n",
       "      <td>3.0</td>\n",
       "      <td>3.0</td>\n",
       "    </tr>\n",
       "    <tr>\n",
       "      <td>A00454102SR84NOYTI0JS</td>\n",
       "      <td>3.0</td>\n",
       "      <td>3.0</td>\n",
       "      <td>3.0</td>\n",
       "      <td>3.0</td>\n",
       "      <td>3.0</td>\n",
       "      <td>3.0</td>\n",
       "      <td>3.0</td>\n",
       "      <td>3.0</td>\n",
       "      <td>3.0</td>\n",
       "      <td>3.0</td>\n",
       "      <td>...</td>\n",
       "      <td>3.0</td>\n",
       "      <td>3.0</td>\n",
       "      <td>3.0</td>\n",
       "      <td>3.0</td>\n",
       "      <td>3.0</td>\n",
       "      <td>3.0</td>\n",
       "      <td>3.0</td>\n",
       "      <td>3.0</td>\n",
       "      <td>3.0</td>\n",
       "      <td>3.0</td>\n",
       "    </tr>\n",
       "  </tbody>\n",
       "</table>\n",
       "<p>4 rows × 174 columns</p>\n",
       "</div>"
      ],
      "text/plain": [
       "ProductId              B00004TUBL  B0000530ED  B00005O0MZ  B0000632EN  \\\n",
       "UserId                                                                  \n",
       "A00120381FL204MYH7G3B         3.0         3.0         3.0         3.0   \n",
       "A00275441WYR3489IKNAB         3.0         3.0         3.0         3.0   \n",
       "A00328401T70RFN4P1IT6         3.0         3.0         3.0         3.0   \n",
       "A00454102SR84NOYTI0JS         3.0         3.0         3.0         3.0   \n",
       "\n",
       "ProductId              B00006IV2F  B0000AFUTL  B0000CC64W  B0000YUXI0  \\\n",
       "UserId                                                                  \n",
       "A00120381FL204MYH7G3B         3.0         3.0         3.0         3.0   \n",
       "A00275441WYR3489IKNAB         3.0         3.0         3.0         3.0   \n",
       "A00328401T70RFN4P1IT6         3.0         3.0         3.0         3.0   \n",
       "A00454102SR84NOYTI0JS         3.0         3.0         3.0         3.0   \n",
       "\n",
       "ProductId              B0000ZLEFU  B00011QUDE  ...  B00C7DYBX0  B00CFRBIC0  \\\n",
       "UserId                                         ...                           \n",
       "A00120381FL204MYH7G3B         3.0         3.0  ...         3.0         3.0   \n",
       "A00275441WYR3489IKNAB         3.0         3.0  ...         3.0         3.0   \n",
       "A00328401T70RFN4P1IT6         3.0         3.0  ...         3.0         3.0   \n",
       "A00454102SR84NOYTI0JS         3.0         3.0  ...         3.0         3.0   \n",
       "\n",
       "ProductId              B00CNOUZE2  B00D6EDGYE  B00E68O4JU  B00FAEOCP0  \\\n",
       "UserId                                                                  \n",
       "A00120381FL204MYH7G3B         3.0         3.0         3.0         3.0   \n",
       "A00275441WYR3489IKNAB         3.0         3.0         3.0         3.0   \n",
       "A00328401T70RFN4P1IT6         3.0         3.0         3.0         3.0   \n",
       "A00454102SR84NOYTI0JS         3.0         3.0         3.0         3.0   \n",
       "\n",
       "ProductId              B00GFBWWWC  B00GP184WO  B00I073WLE  B00IALDHDI  \n",
       "UserId                                                                 \n",
       "A00120381FL204MYH7G3B         3.0         3.0         3.0         3.0  \n",
       "A00275441WYR3489IKNAB         3.0         3.0         3.0         3.0  \n",
       "A00328401T70RFN4P1IT6         3.0         3.0         3.0         3.0  \n",
       "A00454102SR84NOYTI0JS         3.0         3.0         3.0         3.0  \n",
       "\n",
       "[4 rows x 174 columns]"
      ]
     },
     "execution_count": 43,
     "metadata": {},
     "output_type": "execute_result"
    }
   ],
   "source": [
    "# Filling NaN values with baseline rating\n",
    "user_item_matrix = user_item_matrix_raw.fillna(3)\n",
    "user_item_matrix.head(4)"
   ]
  },
  {
   "cell_type": "code",
   "execution_count": 44,
   "metadata": {},
   "outputs": [],
   "source": [
    "user_item_matrix_rating = user_item_matrix - 3"
   ]
  },
  {
   "cell_type": "markdown",
   "metadata": {},
   "source": [
    "### Normal Rating"
   ]
  },
  {
   "cell_type": "code",
   "execution_count": 46,
   "metadata": {},
   "outputs": [
    {
     "name": "stderr",
     "output_type": "stream",
     "text": [
      "\n",
      "\n",
      "Epoch:   0%|          | 0/10 [00:00<?, ?it/s]\u001b[A\u001b[A\n",
      "\n",
      "Epoch:  10%|█         | 1/10 [00:00<00:02,  4.15it/s]\u001b[A\u001b[A\n",
      "\n",
      "Epoch:  20%|██        | 2/10 [00:00<00:01,  4.25it/s]\u001b[A\u001b[A\n",
      "\n",
      "Epoch:  30%|███       | 3/10 [00:00<00:01,  4.29it/s]\u001b[A\u001b[A\n",
      "\n",
      "Epoch:  40%|████      | 4/10 [00:00<00:01,  4.25it/s]\u001b[A\u001b[A\n",
      "\n",
      "Epoch:  50%|█████     | 5/10 [00:01<00:01,  4.28it/s]\u001b[A\u001b[A\n",
      "\n",
      "Epoch:  60%|██████    | 6/10 [00:01<00:00,  4.28it/s]\u001b[A\u001b[A\n",
      "\n",
      "Epoch:  70%|███████   | 7/10 [00:01<00:00,  4.34it/s]\u001b[A\u001b[A\n",
      "\n",
      "Epoch:  80%|████████  | 8/10 [00:01<00:00,  4.40it/s]\u001b[A\u001b[A\n",
      "\n",
      "Epoch:  90%|█████████ | 9/10 [00:02<00:00,  4.44it/s]\u001b[A\u001b[A\n",
      "\n",
      "Epoch: 100%|██████████| 10/10 [00:02<00:00,  4.37it/s]\u001b[A\u001b[A\n"
     ]
    }
   ],
   "source": [
    "recommender = ModelRecommender()\n",
    "recommender.fit(user_item_matrix)"
   ]
  },
  {
   "cell_type": "code",
   "execution_count": 47,
   "metadata": {},
   "outputs": [],
   "source": [
    "X_test = data_test.iloc[:, :-1]\n",
    "y_test = data_test.iloc[:, -1]"
   ]
  },
  {
   "cell_type": "code",
   "execution_count": 48,
   "metadata": {},
   "outputs": [
    {
     "name": "stdout",
     "output_type": "stream",
     "text": [
      "RMSE using normal rating method: 4.20976278630608\n"
     ]
    }
   ],
   "source": [
    "y_pred = recommender.predict(X_test)\n",
    "rmse = np.sqrt(mean_squared_error(y_test, y_pred))\n",
    "\n",
    "print('RMSE using normal rating method: {}'.format(rmse))"
   ]
  },
  {
   "cell_type": "markdown",
   "metadata": {},
   "source": [
    "### Baseline Rating"
   ]
  },
  {
   "cell_type": "code",
   "execution_count": 49,
   "metadata": {},
   "outputs": [
    {
     "name": "stderr",
     "output_type": "stream",
     "text": [
      "\n",
      "\n",
      "Epoch:   0%|          | 0/10 [00:00<?, ?it/s]\u001b[A\u001b[A\n",
      "\n",
      "Epoch:  10%|█         | 1/10 [00:00<00:02,  3.98it/s]\u001b[A\u001b[A\n",
      "\n",
      "Epoch:  20%|██        | 2/10 [00:00<00:01,  4.14it/s]\u001b[A\u001b[A\n",
      "\n",
      "Epoch:  30%|███       | 3/10 [00:00<00:01,  4.28it/s]\u001b[A\u001b[A\n",
      "\n",
      "Epoch:  40%|████      | 4/10 [00:00<00:01,  4.33it/s]\u001b[A\u001b[A\n",
      "\n",
      "Epoch:  50%|█████     | 5/10 [00:01<00:01,  4.39it/s]\u001b[A\u001b[A\n",
      "\n",
      "Epoch:  60%|██████    | 6/10 [00:01<00:00,  4.44it/s]\u001b[A\u001b[A\n",
      "\n",
      "Epoch:  70%|███████   | 7/10 [00:01<00:00,  4.24it/s]\u001b[A\u001b[A\n",
      "\n",
      "Epoch:  80%|████████  | 8/10 [00:01<00:00,  4.01it/s]\u001b[A\u001b[A\n",
      "\n",
      "Epoch:  90%|█████████ | 9/10 [00:02<00:00,  4.01it/s]\u001b[A\u001b[A\n",
      "\n",
      "Epoch: 100%|██████████| 10/10 [00:02<00:00,  4.23it/s]\u001b[A\u001b[A\n"
     ]
    }
   ],
   "source": [
    "recommender_rating = ModelRecommender()\n",
    "recommender_rating.fit(user_item_matrix_rating)"
   ]
  },
  {
   "cell_type": "code",
   "execution_count": 50,
   "metadata": {},
   "outputs": [
    {
     "name": "stdout",
     "output_type": "stream",
     "text": [
      "RMSE using baseline rating method: 1.6740821518983007\n"
     ]
    }
   ],
   "source": [
    "y_pred_rating = recommender.predict(X_test)\n",
    "y_pred_rating += 3\n",
    "rmse_rating = np.sqrt(mean_squared_error(y_test, y_pred_rating))\n",
    "\n",
    "print('RMSE using baseline rating method: {}'.format(rmse_rating))"
   ]
  },
  {
   "cell_type": "markdown",
   "metadata": {},
   "source": [
    "There is a very slight increase in the performance of the model in terms of predictions. What is noticeable that it has achieved this much performance in almost negligible time, as compared to the previous methods.\n",
    "\n",
    "Let's look at the recommendations provided by the method."
   ]
  },
  {
   "cell_type": "code",
   "execution_count": 51,
   "metadata": {},
   "outputs": [
    {
     "data": {
      "text/plain": [
       "173    B00IALDHDI\n",
       "86     B003FBI9LS\n",
       "148    B008MP481M\n",
       "94     B003V21WO2\n",
       "96     B003V265QW\n",
       "165    B00CFRBIC0\n",
       "166    B00CNOUZE2\n",
       "97     B0043OYFKU\n",
       "168    B00E68O4JU\n",
       "80     B002TPQPEE\n",
       "Name: ProductId, dtype: object"
      ]
     },
     "execution_count": 51,
     "metadata": {},
     "output_type": "execute_result"
    }
   ],
   "source": [
    "recommender.recommend('ABQAIIBTTEKVM', 10)"
   ]
  },
  {
   "cell_type": "code",
   "execution_count": 52,
   "metadata": {},
   "outputs": [
    {
     "data": {
      "text/plain": [
       "58     B00150LT40\n",
       "16     B0002Z8HAI\n",
       "61     B00188IFHS\n",
       "117    B0056GDG90\n",
       "137    B006U98T08\n",
       "24     B000ASDGK8\n",
       "14     B00021DVCQ\n",
       "99     B0047ETXD0\n",
       "136    B006SVCY6I\n",
       "79     B002RXW5BA\n",
       "Name: ProductId, dtype: object"
      ]
     },
     "execution_count": 52,
     "metadata": {},
     "output_type": "execute_result"
    }
   ],
   "source": [
    "recommender_rating.recommend('ABQAIIBTTEKVM', 10)"
   ]
  },
  {
   "cell_type": "markdown",
   "metadata": {},
   "source": [
    "Here, we can see that not only the results are different for the two perspectives, but also different from the ones predicted by User - User and Item - Item based recommendations. \n",
    "\n",
    "Although, I can't comment on the qualitative aspect of the recommendation, however, I am inclined to say that these predictions would be better (Please pardon my biasness)."
   ]
  },
  {
   "cell_type": "code",
   "execution_count": null,
   "metadata": {},
   "outputs": [],
   "source": []
  }
 ],
 "metadata": {
  "kernelspec": {
   "display_name": "Python 3",
   "language": "python",
   "name": "python3"
  },
  "language_info": {
   "codemirror_mode": {
    "name": "ipython",
    "version": 3
   },
   "file_extension": ".py",
   "mimetype": "text/x-python",
   "name": "python",
   "nbconvert_exporter": "python",
   "pygments_lexer": "ipython3",
   "version": "3.7.4"
  }
 },
 "nbformat": 4,
 "nbformat_minor": 2
}
